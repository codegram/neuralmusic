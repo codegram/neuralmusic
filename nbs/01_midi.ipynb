{
 "cells": [
  {
   "cell_type": "code",
   "execution_count": null,
   "metadata": {},
   "outputs": [
    {
     "data": {
      "application/javascript": [
       "\n",
       "            setTimeout(function() {\n",
       "                var nbb_cell_id = 1;\n",
       "                var nbb_unformatted_code = \"# hide\\n%load_ext nb_black\";\n",
       "                var nbb_formatted_code = \"# hide\\n%load_ext nb_black\";\n",
       "                var nbb_cells = Jupyter.notebook.get_cells();\n",
       "                for (var i = 0; i < nbb_cells.length; ++i) {\n",
       "                    if (nbb_cells[i].input_prompt_number == nbb_cell_id) {\n",
       "                        if (nbb_cells[i].get_text() == nbb_unformatted_code) {\n",
       "                             nbb_cells[i].set_text(nbb_formatted_code);\n",
       "                        }\n",
       "                        break;\n",
       "                    }\n",
       "                }\n",
       "            }, 500);\n",
       "            "
      ],
      "text/plain": [
       "<IPython.core.display.Javascript object>"
      ]
     },
     "metadata": {},
     "output_type": "display_data"
    }
   ],
   "source": [
    "# hide\n",
    "%load_ext nb_black"
   ]
  },
  {
   "cell_type": "code",
   "execution_count": null,
   "metadata": {},
   "outputs": [
    {
     "data": {
      "application/javascript": [
       "\n",
       "            setTimeout(function() {\n",
       "                var nbb_cell_id = 2;\n",
       "                var nbb_unformatted_code = \"# export\\nfrom typing import Optional, Tuple, Collection\\nimport re\\n\\nfrom music21 import (\\n    converter,\\n    instrument,\\n    note,\\n    chord,\\n    pitch,\\n    interval,\\n    stream,\\n    volume,\\n    duration,\\n    midi,\\n    meter,\\n    key,\\n    tempo,\\n)\\nfrom music21.midi import MidiException\\nimport pandas as pd\";\n",
       "                var nbb_formatted_code = \"# export\\nfrom typing import Optional, Tuple, Collection\\nimport re\\n\\nfrom music21 import (\\n    converter,\\n    instrument,\\n    note,\\n    chord,\\n    pitch,\\n    interval,\\n    stream,\\n    volume,\\n    duration,\\n    midi,\\n    meter,\\n    key,\\n    tempo,\\n)\\nfrom music21.midi import MidiException\\nimport pandas as pd\";\n",
       "                var nbb_cells = Jupyter.notebook.get_cells();\n",
       "                for (var i = 0; i < nbb_cells.length; ++i) {\n",
       "                    if (nbb_cells[i].input_prompt_number == nbb_cell_id) {\n",
       "                        if (nbb_cells[i].get_text() == nbb_unformatted_code) {\n",
       "                             nbb_cells[i].set_text(nbb_formatted_code);\n",
       "                        }\n",
       "                        break;\n",
       "                    }\n",
       "                }\n",
       "            }, 500);\n",
       "            "
      ],
      "text/plain": [
       "<IPython.core.display.Javascript object>"
      ]
     },
     "metadata": {},
     "output_type": "display_data"
    }
   ],
   "source": [
    "# export\n",
    "from typing import Optional, Tuple, Collection\n",
    "import re\n",
    "\n",
    "from music21 import (\n",
    "    converter,\n",
    "    instrument,\n",
    "    note,\n",
    "    chord,\n",
    "    pitch,\n",
    "    interval,\n",
    "    stream,\n",
    "    volume,\n",
    "    duration,\n",
    "    midi,\n",
    "    meter,\n",
    "    key,\n",
    "    tempo,\n",
    ")\n",
    "from music21.midi import MidiException\n",
    "import pandas as pd"
   ]
  },
  {
   "cell_type": "code",
   "execution_count": null,
   "metadata": {},
   "outputs": [
    {
     "data": {
      "application/javascript": [
       "\n",
       "            setTimeout(function() {\n",
       "                var nbb_cell_id = 3;\n",
       "                var nbb_unformatted_code = \"# default_exp midi\\n# default_cls_lvl 3\";\n",
       "                var nbb_formatted_code = \"# default_exp midi\\n# default_cls_lvl 3\";\n",
       "                var nbb_cells = Jupyter.notebook.get_cells();\n",
       "                for (var i = 0; i < nbb_cells.length; ++i) {\n",
       "                    if (nbb_cells[i].input_prompt_number == nbb_cell_id) {\n",
       "                        if (nbb_cells[i].get_text() == nbb_unformatted_code) {\n",
       "                             nbb_cells[i].set_text(nbb_formatted_code);\n",
       "                        }\n",
       "                        break;\n",
       "                    }\n",
       "                }\n",
       "            }, 500);\n",
       "            "
      ],
      "text/plain": [
       "<IPython.core.display.Javascript object>"
      ]
     },
     "metadata": {},
     "output_type": "display_data"
    }
   ],
   "source": [
    "# default_exp midi\n",
    "# default_cls_lvl 3"
   ]
  },
  {
   "cell_type": "markdown",
   "metadata": {},
   "source": [
    "# Parsing and representing MIDI notes\n",
    "\n",
    "> Finding a compact representation of melody and rhythm.\n",
    "\n",
    "Although MIDI notes have a lot of information, we want to distill them into a triplet -- namely pitch, duration and velocity:"
   ]
  },
  {
   "cell_type": "code",
   "execution_count": null,
   "metadata": {},
   "outputs": [
    {
     "data": {
      "application/javascript": [
       "\n",
       "            setTimeout(function() {\n",
       "                var nbb_cell_id = 4;\n",
       "                var nbb_unformatted_code = \"# export\\n\\nPitch, Duration, Velocity = str, float, int\\nTriplet = Tuple[Pitch, Duration, Velocity]\";\n",
       "                var nbb_formatted_code = \"# export\\n\\nPitch, Duration, Velocity = str, float, int\\nTriplet = Tuple[Pitch, Duration, Velocity]\";\n",
       "                var nbb_cells = Jupyter.notebook.get_cells();\n",
       "                for (var i = 0; i < nbb_cells.length; ++i) {\n",
       "                    if (nbb_cells[i].input_prompt_number == nbb_cell_id) {\n",
       "                        if (nbb_cells[i].get_text() == nbb_unformatted_code) {\n",
       "                             nbb_cells[i].set_text(nbb_formatted_code);\n",
       "                        }\n",
       "                        break;\n",
       "                    }\n",
       "                }\n",
       "            }, 500);\n",
       "            "
      ],
      "text/plain": [
       "<IPython.core.display.Javascript object>"
      ]
     },
     "metadata": {},
     "output_type": "display_data"
    }
   ],
   "source": [
    "# export\n",
    "\n",
    "Pitch, Duration, Velocity = str, float, int\n",
    "Triplet = Tuple[Pitch, Duration, Velocity]"
   ]
  },
  {
   "cell_type": "markdown",
   "metadata": {},
   "source": [
    "First we'll create some functions to turn single notes, chords and rests into these Triplets."
   ]
  },
  {
   "cell_type": "code",
   "execution_count": null,
   "metadata": {},
   "outputs": [
    {
     "data": {
      "application/javascript": [
       "\n",
       "            setTimeout(function() {\n",
       "                var nbb_cell_id = 7;\n",
       "                var nbb_unformatted_code = \"# export\\n\\n\\ndef _parse_duration(d: duration.Duration) -> Optional[str]:\\n    try:\\n        dur = float(d.quarterLength)\\n        name = d.type\\n        if dur > 0.0 and dur <= 32.0 and name != \\\"inexpressible\\\":\\n            return name\\n        else:\\n            return None\\n    except duration.DurationException:\\n        return None\\n\\n\\ndef _parse_single_note(note: note.Note) -> Optional[Triplet]:\\n    dur = _parse_duration(note.duration)\\n    if dur is not None:\\n        return (str(note.pitch), dur, note.volume.velocity)\\n    else:\\n        return None\\n\\n\\ndef _parse_chord(chord: chord.Chord) -> Optional[Triplet]:\\n    dur = _parse_duration(chord.duration)\\n    if dur is not None:\\n        return (\\\".\\\".join(str(n) for n in chord.normalOrder), dur, chord.volume.velocity)\\n    else:\\n        return None\\n\\n\\ndef _parse_rest(rest: note.Rest) -> Optional[Triplet]:\\n    dur = _parse_duration(rest.duration)\\n    if dur is not None:\\n        return (\\\"R\\\", dur, 0)\\n    else:\\n        return None\";\n",
       "                var nbb_formatted_code = \"# export\\n\\n\\ndef _parse_duration(d: duration.Duration) -> Optional[str]:\\n    try:\\n        dur = float(d.quarterLength)\\n        name = d.type\\n        if dur > 0.0 and dur <= 32.0 and name != \\\"inexpressible\\\":\\n            return name\\n        else:\\n            return None\\n    except duration.DurationException:\\n        return None\\n\\n\\ndef _parse_single_note(note: note.Note) -> Optional[Triplet]:\\n    dur = _parse_duration(note.duration)\\n    if dur is not None:\\n        return (str(note.pitch), dur, note.volume.velocity)\\n    else:\\n        return None\\n\\n\\ndef _parse_chord(chord: chord.Chord) -> Optional[Triplet]:\\n    dur = _parse_duration(chord.duration)\\n    if dur is not None:\\n        return (\\\".\\\".join(str(n) for n in chord.normalOrder), dur, chord.volume.velocity)\\n    else:\\n        return None\\n\\n\\ndef _parse_rest(rest: note.Rest) -> Optional[Triplet]:\\n    dur = _parse_duration(rest.duration)\\n    if dur is not None:\\n        return (\\\"R\\\", dur, 0)\\n    else:\\n        return None\";\n",
       "                var nbb_cells = Jupyter.notebook.get_cells();\n",
       "                for (var i = 0; i < nbb_cells.length; ++i) {\n",
       "                    if (nbb_cells[i].input_prompt_number == nbb_cell_id) {\n",
       "                        if (nbb_cells[i].get_text() == nbb_unformatted_code) {\n",
       "                             nbb_cells[i].set_text(nbb_formatted_code);\n",
       "                        }\n",
       "                        break;\n",
       "                    }\n",
       "                }\n",
       "            }, 500);\n",
       "            "
      ],
      "text/plain": [
       "<IPython.core.display.Javascript object>"
      ]
     },
     "metadata": {},
     "output_type": "display_data"
    }
   ],
   "source": [
    "# export\n",
    "\n",
    "\n",
    "def _parse_duration(d: duration.Duration) -> Optional[str]:\n",
    "    try:\n",
    "        dur = float(d.quarterLength)\n",
    "        name = d.type\n",
    "        if dur > 0.0 and dur <= 32.0 and name != \"inexpressible\":\n",
    "            return name\n",
    "        else:\n",
    "            return None\n",
    "    except duration.DurationException:\n",
    "        return None\n",
    "\n",
    "\n",
    "def _parse_single_note(note: note.Note) -> Optional[Triplet]:\n",
    "    dur = _parse_duration(note.duration)\n",
    "    if dur is not None:\n",
    "        return (str(note.pitch), dur, note.volume.velocity)\n",
    "    else:\n",
    "        return None\n",
    "\n",
    "\n",
    "def _parse_chord(chord: chord.Chord) -> Optional[Triplet]:\n",
    "    dur = _parse_duration(chord.duration)\n",
    "    if dur is not None:\n",
    "        return (\".\".join(str(n) for n in chord.normalOrder), dur, chord.volume.velocity)\n",
    "    else:\n",
    "        return None\n",
    "\n",
    "\n",
    "def _parse_rest(rest: note.Rest) -> Optional[Triplet]:\n",
    "    dur = _parse_duration(rest.duration)\n",
    "    if dur is not None:\n",
    "        return (\"R\", dur, 0)\n",
    "    else:\n",
    "        return None"
   ]
  },
  {
   "cell_type": "code",
   "execution_count": null,
   "metadata": {},
   "outputs": [
    {
     "data": {
      "application/javascript": [
       "\n",
       "            setTimeout(function() {\n",
       "                var nbb_cell_id = 9;\n",
       "                var nbb_unformatted_code = \"# test\\nfrom testing import test_eq\\n\\nquarter = duration.Duration(\\\"quarter\\\")\\n\\n\\ndef loud(n: note.Note, velocity=120) -> note.Note:\\n    n.volume = volume.Volume(velocity=velocity)\\n    return n\\n\\n\\ntest_eq(\\n    (\\\"C3\\\", \\\"quarter\\\", 120), _parse_single_note(loud(note.Note(\\\"C3\\\", duration=quarter)))\\n)\\ntest_eq(None, _parse_single_note(note.Note(\\\"C3\\\", duration=duration.Duration(34.0))))\\n\\ntest_eq(\\n    (\\\"1.3.5\\\", \\\"quarter\\\", 80),\\n    _parse_chord(loud(chord.Chord([1, 3, 5], duration=quarter), velocity=80)),\\n)\\ntest_eq(None, _parse_chord(chord.Chord([1, 3, 5], duration=duration.Duration(0.0))))\\n\\ntest_eq((\\\"R\\\", \\\"quarter\\\", 0), _parse_rest(note.Rest(duration=quarter)))\\ntest_eq(None, _parse_rest(note.Rest(duration=duration.Duration(0.0))))\";\n",
       "                var nbb_formatted_code = \"# test\\nfrom testing import test_eq\\n\\nquarter = duration.Duration(\\\"quarter\\\")\\n\\n\\ndef loud(n: note.Note, velocity=120) -> note.Note:\\n    n.volume = volume.Volume(velocity=velocity)\\n    return n\\n\\n\\ntest_eq(\\n    (\\\"C3\\\", \\\"quarter\\\", 120), _parse_single_note(loud(note.Note(\\\"C3\\\", duration=quarter)))\\n)\\ntest_eq(None, _parse_single_note(note.Note(\\\"C3\\\", duration=duration.Duration(34.0))))\\n\\ntest_eq(\\n    (\\\"1.3.5\\\", \\\"quarter\\\", 80),\\n    _parse_chord(loud(chord.Chord([1, 3, 5], duration=quarter), velocity=80)),\\n)\\ntest_eq(None, _parse_chord(chord.Chord([1, 3, 5], duration=duration.Duration(0.0))))\\n\\ntest_eq((\\\"R\\\", \\\"quarter\\\", 0), _parse_rest(note.Rest(duration=quarter)))\\ntest_eq(None, _parse_rest(note.Rest(duration=duration.Duration(0.0))))\";\n",
       "                var nbb_cells = Jupyter.notebook.get_cells();\n",
       "                for (var i = 0; i < nbb_cells.length; ++i) {\n",
       "                    if (nbb_cells[i].input_prompt_number == nbb_cell_id) {\n",
       "                        if (nbb_cells[i].get_text() == nbb_unformatted_code) {\n",
       "                             nbb_cells[i].set_text(nbb_formatted_code);\n",
       "                        }\n",
       "                        break;\n",
       "                    }\n",
       "                }\n",
       "            }, 500);\n",
       "            "
      ],
      "text/plain": [
       "<IPython.core.display.Javascript object>"
      ]
     },
     "metadata": {},
     "output_type": "display_data"
    }
   ],
   "source": [
    "# test\n",
    "from testing import test_eq\n",
    "\n",
    "quarter = duration.Duration(\"quarter\")\n",
    "\n",
    "\n",
    "def loud(n: note.Note, velocity=120) -> note.Note:\n",
    "    n.volume = volume.Volume(velocity=velocity)\n",
    "    return n\n",
    "\n",
    "\n",
    "test_eq(\n",
    "    (\"C3\", \"quarter\", 120), _parse_single_note(loud(note.Note(\"C3\", duration=quarter)))\n",
    ")\n",
    "test_eq(None, _parse_single_note(note.Note(\"C3\", duration=duration.Duration(34.0))))\n",
    "\n",
    "test_eq(\n",
    "    (\"1.3.5\", \"quarter\", 80),\n",
    "    _parse_chord(loud(chord.Chord([1, 3, 5], duration=quarter), velocity=80)),\n",
    ")\n",
    "test_eq(None, _parse_chord(chord.Chord([1, 3, 5], duration=duration.Duration(0.0))))\n",
    "\n",
    "test_eq((\"R\", \"quarter\", 0), _parse_rest(note.Rest(duration=quarter)))\n",
    "test_eq(None, _parse_rest(note.Rest(duration=duration.Duration(0.0))))"
   ]
  },
  {
   "cell_type": "markdown",
   "metadata": {},
   "source": [
    "As a normalization step, we need to transpose all the music to the same key, so we'll choose C for convenience."
   ]
  },
  {
   "cell_type": "code",
   "execution_count": null,
   "metadata": {},
   "outputs": [
    {
     "data": {
      "application/javascript": [
       "\n",
       "            setTimeout(function() {\n",
       "                var nbb_cell_id = 10;\n",
       "                var nbb_unformatted_code = \"# export\\n\\n\\ndef _transpose_to_C(s: stream.Stream) -> (stream.Stream, str):\\n    \\\"Normalizes a stream to the C key, and returns the mode\\\"\\n    k = s.analyze(\\\"key\\\")\\n    i = interval.Interval(k.tonic, pitch.Pitch(\\\"C\\\"))\\n    return s.transpose(i), k.mode\";\n",
       "                var nbb_formatted_code = \"# export\\n\\n\\ndef _transpose_to_C(s: stream.Stream) -> (stream.Stream, str):\\n    \\\"Normalizes a stream to the C key, and returns the mode\\\"\\n    k = s.analyze(\\\"key\\\")\\n    i = interval.Interval(k.tonic, pitch.Pitch(\\\"C\\\"))\\n    return s.transpose(i), k.mode\";\n",
       "                var nbb_cells = Jupyter.notebook.get_cells();\n",
       "                for (var i = 0; i < nbb_cells.length; ++i) {\n",
       "                    if (nbb_cells[i].input_prompt_number == nbb_cell_id) {\n",
       "                        if (nbb_cells[i].get_text() == nbb_unformatted_code) {\n",
       "                             nbb_cells[i].set_text(nbb_formatted_code);\n",
       "                        }\n",
       "                        break;\n",
       "                    }\n",
       "                }\n",
       "            }, 500);\n",
       "            "
      ],
      "text/plain": [
       "<IPython.core.display.Javascript object>"
      ]
     },
     "metadata": {},
     "output_type": "display_data"
    }
   ],
   "source": [
    "# export\n",
    "\n",
    "\n",
    "def _transpose_to_C(s: stream.Stream) -> (stream.Stream, str):\n",
    "    \"Normalizes a stream to the C key, and returns the mode\"\n",
    "    k = s.analyze(\"key\")\n",
    "    i = interval.Interval(k.tonic, pitch.Pitch(\"C\"))\n",
    "    return s.transpose(i), k.mode"
   ]
  },
  {
   "cell_type": "code",
   "execution_count": null,
   "metadata": {},
   "outputs": [
    {
     "data": {
      "application/javascript": [
       "\n",
       "            setTimeout(function() {\n",
       "                var nbb_cell_id = 11;\n",
       "                var nbb_unformatted_code = \"# test\\nfrom testing import test_eq\\n\\ns = converter.parse(\\\"data/ff4-main.mid\\\")\\noriginalKey = s.analyze(\\\"key\\\")\\n\\ntransposed, mode = _transpose_to_C(s)\\ntransposedKey = transposed.analyze(\\\"key\\\")\\n\\ntest_eq(key.Key(\\\"CM\\\"), transposedKey)\\ntest_eq(originalKey.mode, mode)\";\n",
       "                var nbb_formatted_code = \"# test\\nfrom testing import test_eq\\n\\ns = converter.parse(\\\"data/ff4-main.mid\\\")\\noriginalKey = s.analyze(\\\"key\\\")\\n\\ntransposed, mode = _transpose_to_C(s)\\ntransposedKey = transposed.analyze(\\\"key\\\")\\n\\ntest_eq(key.Key(\\\"CM\\\"), transposedKey)\\ntest_eq(originalKey.mode, mode)\";\n",
       "                var nbb_cells = Jupyter.notebook.get_cells();\n",
       "                for (var i = 0; i < nbb_cells.length; ++i) {\n",
       "                    if (nbb_cells[i].input_prompt_number == nbb_cell_id) {\n",
       "                        if (nbb_cells[i].get_text() == nbb_unformatted_code) {\n",
       "                             nbb_cells[i].set_text(nbb_formatted_code);\n",
       "                        }\n",
       "                        break;\n",
       "                    }\n",
       "                }\n",
       "            }, 500);\n",
       "            "
      ],
      "text/plain": [
       "<IPython.core.display.Javascript object>"
      ]
     },
     "metadata": {},
     "output_type": "display_data"
    }
   ],
   "source": [
    "# test\n",
    "from testing import test_eq\n",
    "\n",
    "s = converter.parse(\"data/ff4-main.mid\")\n",
    "originalKey = s.analyze(\"key\")\n",
    "\n",
    "transposed, mode = _transpose_to_C(s)\n",
    "transposedKey = transposed.analyze(\"key\")\n",
    "\n",
    "test_eq(key.Key(\"CM\"), transposedKey)\n",
    "test_eq(originalKey.mode, mode)"
   ]
  },
  {
   "cell_type": "code",
   "execution_count": null,
   "metadata": {},
   "outputs": [
    {
     "data": {
      "application/javascript": [
       "\n",
       "            setTimeout(function() {\n",
       "                var nbb_cell_id = 12;\n",
       "                var nbb_unformatted_code = \"# export\\n\\n\\ndef _parse_part(elements, mode) -> Optional[dict]:\\n    d = {\\n        \\\"notes\\\": [],\\n        \\\"instrument\\\": \\\"unknown\\\",\\n        \\\"bpm\\\": 120,\\n        \\\"time_signature\\\": \\\"4/4\\\",\\n        \\\"mode\\\": mode,\\n    }\\n\\n    for element in elements:\\n        if element.__class__ == note.Note:\\n            x = _parse_single_note(element)\\n            if x is not None:\\n                d[\\\"notes\\\"].append(x)\\n        elif element.__class__ == chord.Chord:\\n            x = _parse_chord(element)\\n            if x is not None:\\n                d[\\\"notes\\\"].append(x)\\n        elif element.__class__ == note.Rest:\\n            x = _parse_rest(element)\\n            if x is not None:\\n                d[\\\"notes\\\"].append(x)\\n        elif isinstance(element, instrument.Instrument):\\n            if str(element) != \\\"\\\":\\n                d[\\\"instrument\\\"] = str(element).lower()\\n        elif element.__class__ == tempo.MetronomeMark:\\n            d[\\\"bpm\\\"] = element.number\\n        elif element.__class__ == meter.TimeSignature:\\n            d[\\\"time_signature\\\"] = element.ratioString\\n\\n    if len(d[\\\"notes\\\"]) != 0:\\n        return d\\n    else:\\n        return None\";\n",
       "                var nbb_formatted_code = \"# export\\n\\n\\ndef _parse_part(elements, mode) -> Optional[dict]:\\n    d = {\\n        \\\"notes\\\": [],\\n        \\\"instrument\\\": \\\"unknown\\\",\\n        \\\"bpm\\\": 120,\\n        \\\"time_signature\\\": \\\"4/4\\\",\\n        \\\"mode\\\": mode,\\n    }\\n\\n    for element in elements:\\n        if element.__class__ == note.Note:\\n            x = _parse_single_note(element)\\n            if x is not None:\\n                d[\\\"notes\\\"].append(x)\\n        elif element.__class__ == chord.Chord:\\n            x = _parse_chord(element)\\n            if x is not None:\\n                d[\\\"notes\\\"].append(x)\\n        elif element.__class__ == note.Rest:\\n            x = _parse_rest(element)\\n            if x is not None:\\n                d[\\\"notes\\\"].append(x)\\n        elif isinstance(element, instrument.Instrument):\\n            if str(element) != \\\"\\\":\\n                d[\\\"instrument\\\"] = str(element).lower()\\n        elif element.__class__ == tempo.MetronomeMark:\\n            d[\\\"bpm\\\"] = element.number\\n        elif element.__class__ == meter.TimeSignature:\\n            d[\\\"time_signature\\\"] = element.ratioString\\n\\n    if len(d[\\\"notes\\\"]) != 0:\\n        return d\\n    else:\\n        return None\";\n",
       "                var nbb_cells = Jupyter.notebook.get_cells();\n",
       "                for (var i = 0; i < nbb_cells.length; ++i) {\n",
       "                    if (nbb_cells[i].input_prompt_number == nbb_cell_id) {\n",
       "                        if (nbb_cells[i].get_text() == nbb_unformatted_code) {\n",
       "                             nbb_cells[i].set_text(nbb_formatted_code);\n",
       "                        }\n",
       "                        break;\n",
       "                    }\n",
       "                }\n",
       "            }, 500);\n",
       "            "
      ],
      "text/plain": [
       "<IPython.core.display.Javascript object>"
      ]
     },
     "metadata": {},
     "output_type": "display_data"
    }
   ],
   "source": [
    "# export\n",
    "\n",
    "\n",
    "def _parse_part(elements, mode) -> Optional[dict]:\n",
    "    d = {\n",
    "        \"notes\": [],\n",
    "        \"instrument\": \"unknown\",\n",
    "        \"bpm\": 120,\n",
    "        \"time_signature\": \"4/4\",\n",
    "        \"mode\": mode,\n",
    "    }\n",
    "\n",
    "    for element in elements:\n",
    "        if element.__class__ == note.Note:\n",
    "            x = _parse_single_note(element)\n",
    "            if x is not None:\n",
    "                d[\"notes\"].append(x)\n",
    "        elif element.__class__ == chord.Chord:\n",
    "            x = _parse_chord(element)\n",
    "            if x is not None:\n",
    "                d[\"notes\"].append(x)\n",
    "        elif element.__class__ == note.Rest:\n",
    "            x = _parse_rest(element)\n",
    "            if x is not None:\n",
    "                d[\"notes\"].append(x)\n",
    "        elif isinstance(element, instrument.Instrument):\n",
    "            if str(element) != \"\":\n",
    "                d[\"instrument\"] = str(element).lower()\n",
    "        elif element.__class__ == tempo.MetronomeMark:\n",
    "            d[\"bpm\"] = element.number\n",
    "        elif element.__class__ == meter.TimeSignature:\n",
    "            d[\"time_signature\"] = element.ratioString\n",
    "\n",
    "    if len(d[\"notes\"]) != 0:\n",
    "        return d\n",
    "    else:\n",
    "        return None"
   ]
  },
  {
   "cell_type": "code",
   "execution_count": null,
   "metadata": {},
   "outputs": [
    {
     "data": {
      "application/javascript": [
       "\n",
       "            setTimeout(function() {\n",
       "                var nbb_cell_id = 14;\n",
       "                var nbb_unformatted_code = \"# test\\nfrom testing import test_eq\\n\\ns = converter.parse(\\\"data/rugrats.mid\\\")\\nrow = _parse_part(s.parts[0].recurse(), \\\"major\\\")\\n\\ntest_eq(\\\"piano\\\", row[\\\"instrument\\\"])\\ntest_eq(102.0, row[\\\"bpm\\\"])\\ntest_eq(\\\"major\\\", row[\\\"mode\\\"])\\ntest_eq(\\\"4/4\\\", row[\\\"time_signature\\\"])\\ntest_eq(\\n    [('R', 'eighth', 0), ('R', 'breve', 0), ('C3', 'eighth', 103)],\\n    row[\\\"notes\\\"][0:3],\\n)\";\n",
       "                var nbb_formatted_code = \"# test\\nfrom testing import test_eq\\n\\ns = converter.parse(\\\"data/rugrats.mid\\\")\\nrow = _parse_part(s.parts[0].recurse(), \\\"major\\\")\\n\\ntest_eq(\\\"piano\\\", row[\\\"instrument\\\"])\\ntest_eq(102.0, row[\\\"bpm\\\"])\\ntest_eq(\\\"major\\\", row[\\\"mode\\\"])\\ntest_eq(\\\"4/4\\\", row[\\\"time_signature\\\"])\\ntest_eq(\\n    [(\\\"R\\\", \\\"eighth\\\", 0), (\\\"R\\\", \\\"breve\\\", 0), (\\\"C3\\\", \\\"eighth\\\", 103)], row[\\\"notes\\\"][0:3]\\n)\";\n",
       "                var nbb_cells = Jupyter.notebook.get_cells();\n",
       "                for (var i = 0; i < nbb_cells.length; ++i) {\n",
       "                    if (nbb_cells[i].input_prompt_number == nbb_cell_id) {\n",
       "                        if (nbb_cells[i].get_text() == nbb_unformatted_code) {\n",
       "                             nbb_cells[i].set_text(nbb_formatted_code);\n",
       "                        }\n",
       "                        break;\n",
       "                    }\n",
       "                }\n",
       "            }, 500);\n",
       "            "
      ],
      "text/plain": [
       "<IPython.core.display.Javascript object>"
      ]
     },
     "metadata": {},
     "output_type": "display_data"
    }
   ],
   "source": [
    "# test\n",
    "from testing import test_eq\n",
    "\n",
    "s = converter.parse(\"data/rugrats.mid\")\n",
    "row = _parse_part(s.parts[0].recurse(), \"major\")\n",
    "\n",
    "test_eq(\"piano\", row[\"instrument\"])\n",
    "test_eq(102.0, row[\"bpm\"])\n",
    "test_eq(\"major\", row[\"mode\"])\n",
    "test_eq(\"4/4\", row[\"time_signature\"])\n",
    "test_eq(\n",
    "    [(\"R\", \"eighth\", 0), (\"R\", \"breve\", 0), (\"C3\", \"eighth\", 103)], row[\"notes\"][0:3]\n",
    ")"
   ]
  },
  {
   "cell_type": "code",
   "execution_count": null,
   "metadata": {},
   "outputs": [
    {
     "data": {
      "application/javascript": [
       "\n",
       "            setTimeout(function() {\n",
       "                var nbb_cell_id = 15;\n",
       "                var nbb_unformatted_code = \"# export\\n\\n\\ndef parse_midi_file(file: str) -> Optional[pd.DataFrame]:\\n    \\\"\\\"\\\"\\n    Attempts to parse a midi file into a Dataframe. Returns a Dataframe or None, together with the number of notes processed.\\n    \\\"\\\"\\\"\\n    try:\\n        midi, mode = _transpose_to_C(converter.parse(file))\\n        parts = instrument.partitionByInstrument(midi)\\n        rows = []\\n        if parts:\\n            for part in parts:\\n                parsed = _parse_part(part.recurse(), mode)\\n                if parsed is not None:\\n                    rows.append(parsed)\\n        else:\\n            parsed = _parse_part(midi.flat.notes, mode)\\n            if parsed is not None:\\n                rows.append(parsed)\\n\\n        for row in rows:\\n            row[\\\"pitches\\\"] = [pitch for (pitch, dur, velocity) in row[\\\"notes\\\"]]\\n            row[\\\"durations\\\"] = [dur for (pitch, dur, velocity) in row[\\\"notes\\\"]]\\n            row[\\\"velocities\\\"] = [velocity for (pitch, dur, velocity) in row[\\\"notes\\\"]]\\n            del row[\\\"notes\\\"]\\n\\n        return pd.DataFrame(rows)\\n    except MidiException:\\n        return None\\n    except IndexError:\\n        return None\\n\\n\\ndef row_to_triplets(df: pd.DataFrame, row_index: int) -> Collection[Triplet]:\\n    \\\"\\\"\\\"\\n    Takes a DataFrame at a specific row and turns that into a triplet.\\n    \\\"\\\"\\\"\\n    pitches = df.get(\\\"pitches\\\")[row_index]\\n    durations = df.get(\\\"durations\\\")[row_index]\\n    velocities = df.get(\\\"velocities\\\")[row_index]\\n    return list(zip(pitches, durations, velocities))\";\n",
       "                var nbb_formatted_code = \"# export\\n\\n\\ndef parse_midi_file(file: str) -> Optional[pd.DataFrame]:\\n    \\\"\\\"\\\"\\n    Attempts to parse a midi file into a Dataframe. Returns a Dataframe or None, together with the number of notes processed.\\n    \\\"\\\"\\\"\\n    try:\\n        midi, mode = _transpose_to_C(converter.parse(file))\\n        parts = instrument.partitionByInstrument(midi)\\n        rows = []\\n        if parts:\\n            for part in parts:\\n                parsed = _parse_part(part.recurse(), mode)\\n                if parsed is not None:\\n                    rows.append(parsed)\\n        else:\\n            parsed = _parse_part(midi.flat.notes, mode)\\n            if parsed is not None:\\n                rows.append(parsed)\\n\\n        for row in rows:\\n            row[\\\"pitches\\\"] = [pitch for (pitch, dur, velocity) in row[\\\"notes\\\"]]\\n            row[\\\"durations\\\"] = [dur for (pitch, dur, velocity) in row[\\\"notes\\\"]]\\n            row[\\\"velocities\\\"] = [velocity for (pitch, dur, velocity) in row[\\\"notes\\\"]]\\n            del row[\\\"notes\\\"]\\n\\n        return pd.DataFrame(rows)\\n    except MidiException:\\n        return None\\n    except IndexError:\\n        return None\\n\\n\\ndef row_to_triplets(df: pd.DataFrame, row_index: int) -> Collection[Triplet]:\\n    \\\"\\\"\\\"\\n    Takes a DataFrame at a specific row and turns that into a triplet.\\n    \\\"\\\"\\\"\\n    pitches = df.get(\\\"pitches\\\")[row_index]\\n    durations = df.get(\\\"durations\\\")[row_index]\\n    velocities = df.get(\\\"velocities\\\")[row_index]\\n    return list(zip(pitches, durations, velocities))\";\n",
       "                var nbb_cells = Jupyter.notebook.get_cells();\n",
       "                for (var i = 0; i < nbb_cells.length; ++i) {\n",
       "                    if (nbb_cells[i].input_prompt_number == nbb_cell_id) {\n",
       "                        if (nbb_cells[i].get_text() == nbb_unformatted_code) {\n",
       "                             nbb_cells[i].set_text(nbb_formatted_code);\n",
       "                        }\n",
       "                        break;\n",
       "                    }\n",
       "                }\n",
       "            }, 500);\n",
       "            "
      ],
      "text/plain": [
       "<IPython.core.display.Javascript object>"
      ]
     },
     "metadata": {},
     "output_type": "display_data"
    }
   ],
   "source": [
    "# export\n",
    "\n",
    "\n",
    "def parse_midi_file(file: str) -> Optional[pd.DataFrame]:\n",
    "    \"\"\"\n",
    "    Attempts to parse a midi file into a Dataframe. Returns a Dataframe or None, together with the number of notes processed.\n",
    "    \"\"\"\n",
    "    try:\n",
    "        midi, mode = _transpose_to_C(converter.parse(file))\n",
    "        parts = instrument.partitionByInstrument(midi)\n",
    "        rows = []\n",
    "        if parts:\n",
    "            for part in parts:\n",
    "                parsed = _parse_part(part.recurse(), mode)\n",
    "                if parsed is not None:\n",
    "                    rows.append(parsed)\n",
    "        else:\n",
    "            parsed = _parse_part(midi.flat.notes, mode)\n",
    "            if parsed is not None:\n",
    "                rows.append(parsed)\n",
    "\n",
    "        for row in rows:\n",
    "            row[\"pitches\"] = [pitch for (pitch, dur, velocity) in row[\"notes\"]]\n",
    "            row[\"durations\"] = [dur for (pitch, dur, velocity) in row[\"notes\"]]\n",
    "            row[\"velocities\"] = [velocity for (pitch, dur, velocity) in row[\"notes\"]]\n",
    "            del row[\"notes\"]\n",
    "\n",
    "        return pd.DataFrame(rows)\n",
    "    except MidiException:\n",
    "        return None\n",
    "    except IndexError:\n",
    "        return None\n",
    "\n",
    "\n",
    "def row_to_triplets(df: pd.DataFrame, row_index: int) -> Collection[Triplet]:\n",
    "    \"\"\"\n",
    "    Takes a DataFrame at a specific row and turns that into a triplet.\n",
    "    \"\"\"\n",
    "    pitches = df.get(\"pitches\")[row_index]\n",
    "    durations = df.get(\"durations\")[row_index]\n",
    "    velocities = df.get(\"velocities\")[row_index]\n",
    "    return list(zip(pitches, durations, velocities))"
   ]
  },
  {
   "cell_type": "code",
   "execution_count": null,
   "metadata": {},
   "outputs": [
    {
     "name": "stdout",
     "output_type": "stream",
     "text": [
      "ff4-airship.mid ff4-main.mid    ff4-town.mid    midi.tar.gz     rugrats.mid\r\n"
     ]
    },
    {
     "data": {
      "application/javascript": [
       "\n",
       "            setTimeout(function() {\n",
       "                var nbb_cell_id = 16;\n",
       "                var nbb_unformatted_code = \"!ls data\";\n",
       "                var nbb_formatted_code = \"!ls data\";\n",
       "                var nbb_cells = Jupyter.notebook.get_cells();\n",
       "                for (var i = 0; i < nbb_cells.length; ++i) {\n",
       "                    if (nbb_cells[i].input_prompt_number == nbb_cell_id) {\n",
       "                        if (nbb_cells[i].get_text() == nbb_unformatted_code) {\n",
       "                             nbb_cells[i].set_text(nbb_formatted_code);\n",
       "                        }\n",
       "                        break;\n",
       "                    }\n",
       "                }\n",
       "            }, 500);\n",
       "            "
      ],
      "text/plain": [
       "<IPython.core.display.Javascript object>"
      ]
     },
     "metadata": {},
     "output_type": "display_data"
    }
   ],
   "source": [
    "!ls data"
   ]
  },
  {
   "cell_type": "code",
   "execution_count": null,
   "metadata": {},
   "outputs": [
    {
     "data": {
      "application/javascript": [
       "\n",
       "            setTimeout(function() {\n",
       "                var nbb_cell_id = 18;\n",
       "                var nbb_unformatted_code = \"# test\\nfrom testing import test_eq, path\\n\\ndf = parse_midi_file(path(\\\"data/ff4-main.mid\\\"))\\n\\ntest_eq(1, len(df))\\ntest_eq(\\\"piano\\\", df.get(\\\"instrument\\\")[0])\\n\\ntriplets = row_to_triplets(df, 0)\\n\\ntest_eq(\\n    [('E5', 'eighth', 110), ('B4', 'eighth', 110), ('G4', 'eighth', 110)], triplets[0:3]\\n)\\ntest_eq(1, len(df))\\n\\ndf = parse_midi_file(path(\\\"data/rugrats.mid\\\"))\\ntest_eq(1, len(df))\";\n",
       "                var nbb_formatted_code = \"# test\\nfrom testing import test_eq, path\\n\\ndf = parse_midi_file(path(\\\"data/ff4-main.mid\\\"))\\n\\ntest_eq(1, len(df))\\ntest_eq(\\\"piano\\\", df.get(\\\"instrument\\\")[0])\\n\\ntriplets = row_to_triplets(df, 0)\\n\\ntest_eq(\\n    [(\\\"E5\\\", \\\"eighth\\\", 110), (\\\"B4\\\", \\\"eighth\\\", 110), (\\\"G4\\\", \\\"eighth\\\", 110)], triplets[0:3]\\n)\\ntest_eq(1, len(df))\\n\\ndf = parse_midi_file(path(\\\"data/rugrats.mid\\\"))\\ntest_eq(1, len(df))\";\n",
       "                var nbb_cells = Jupyter.notebook.get_cells();\n",
       "                for (var i = 0; i < nbb_cells.length; ++i) {\n",
       "                    if (nbb_cells[i].input_prompt_number == nbb_cell_id) {\n",
       "                        if (nbb_cells[i].get_text() == nbb_unformatted_code) {\n",
       "                             nbb_cells[i].set_text(nbb_formatted_code);\n",
       "                        }\n",
       "                        break;\n",
       "                    }\n",
       "                }\n",
       "            }, 500);\n",
       "            "
      ],
      "text/plain": [
       "<IPython.core.display.Javascript object>"
      ]
     },
     "metadata": {},
     "output_type": "display_data"
    }
   ],
   "source": [
    "# test\n",
    "from testing import test_eq, path\n",
    "\n",
    "df = parse_midi_file(path(\"data/ff4-main.mid\"))\n",
    "\n",
    "test_eq(1, len(df))\n",
    "test_eq(\"piano\", df.get(\"instrument\")[0])\n",
    "\n",
    "triplets = row_to_triplets(df, 0)\n",
    "\n",
    "test_eq(\n",
    "    [(\"E5\", \"eighth\", 110), (\"B4\", \"eighth\", 110), (\"G4\", \"eighth\", 110)], triplets[0:3]\n",
    ")\n",
    "test_eq(1, len(df))\n",
    "\n",
    "df = parse_midi_file(path(\"data/rugrats.mid\"))\n",
    "test_eq(1, len(df))"
   ]
  },
  {
   "cell_type": "markdown",
   "metadata": {},
   "source": [
    "## Turning triplets back into MIDI streams\n",
    "\n",
    "Another interesting thing is to be able to go from triplets to MIDI streams, display their scores and even an audible IPython widget to play the audio.\n",
    "\n",
    "But first of all, some utilities to turn these triplets into `music21` elements:"
   ]
  },
  {
   "cell_type": "code",
   "execution_count": null,
   "metadata": {},
   "outputs": [
    {
     "data": {
      "application/javascript": [
       "\n",
       "            setTimeout(function() {\n",
       "                var nbb_cell_id = 19;\n",
       "                var nbb_unformatted_code = \"# export\\n\\n\\ndef triplet_to_note(triplet: Triplet):\\n    pitch, dur, vel = triplet\\n    dur = duration.Duration(dur)\\n    vol = volume.Volume(velocity=vel)\\n    if re.match(r\\\"^[0-9]\\\", pitch):\\n        c = chord.Chord([int(x) for x in pitch.split(\\\".\\\")], duration=dur)\\n        c.volume = vol\\n        return c\\n    elif pitch == \\\"R\\\":\\n        return note.Rest(duration=dur)\\n    else:\\n        n = note.Note(pitch, duration=dur)\\n        n.volume = vol\\n        return n\\n\\n\\ndef triplets_to_stream(triplets: Collection[Triplet]) -> stream.Stream:\\n    s = stream.Stream()\\n    _ = [s.append(triplet_to_note(triplet)) for triplet in triplets]\\n    return s\\n\\n\\ndef write_midi(stream, name):\\n    mf = midi.translate.streamToMidiFile(stream)\\n    mf.open(f\\\"{name}.mid\\\", \\\"wb\\\")\\n    mf.write()\\n    mf.close()\";\n",
       "                var nbb_formatted_code = \"# export\\n\\n\\ndef triplet_to_note(triplet: Triplet):\\n    pitch, dur, vel = triplet\\n    dur = duration.Duration(dur)\\n    vol = volume.Volume(velocity=vel)\\n    if re.match(r\\\"^[0-9]\\\", pitch):\\n        c = chord.Chord([int(x) for x in pitch.split(\\\".\\\")], duration=dur)\\n        c.volume = vol\\n        return c\\n    elif pitch == \\\"R\\\":\\n        return note.Rest(duration=dur)\\n    else:\\n        n = note.Note(pitch, duration=dur)\\n        n.volume = vol\\n        return n\\n\\n\\ndef triplets_to_stream(triplets: Collection[Triplet]) -> stream.Stream:\\n    s = stream.Stream()\\n    _ = [s.append(triplet_to_note(triplet)) for triplet in triplets]\\n    return s\\n\\n\\ndef write_midi(stream, name):\\n    mf = midi.translate.streamToMidiFile(stream)\\n    mf.open(f\\\"{name}.mid\\\", \\\"wb\\\")\\n    mf.write()\\n    mf.close()\";\n",
       "                var nbb_cells = Jupyter.notebook.get_cells();\n",
       "                for (var i = 0; i < nbb_cells.length; ++i) {\n",
       "                    if (nbb_cells[i].input_prompt_number == nbb_cell_id) {\n",
       "                        if (nbb_cells[i].get_text() == nbb_unformatted_code) {\n",
       "                             nbb_cells[i].set_text(nbb_formatted_code);\n",
       "                        }\n",
       "                        break;\n",
       "                    }\n",
       "                }\n",
       "            }, 500);\n",
       "            "
      ],
      "text/plain": [
       "<IPython.core.display.Javascript object>"
      ]
     },
     "metadata": {},
     "output_type": "display_data"
    }
   ],
   "source": [
    "# export\n",
    "\n",
    "\n",
    "def triplet_to_note(triplet: Triplet):\n",
    "    pitch, dur, vel = triplet\n",
    "    dur = duration.Duration(dur)\n",
    "    vol = volume.Volume(velocity=vel)\n",
    "    if re.match(r\"^[0-9]\", pitch):\n",
    "        c = chord.Chord([int(x) for x in pitch.split(\".\")], duration=dur)\n",
    "        c.volume = vol\n",
    "        return c\n",
    "    elif pitch == \"R\":\n",
    "        return note.Rest(duration=dur)\n",
    "    else:\n",
    "        n = note.Note(pitch, duration=dur)\n",
    "        n.volume = vol\n",
    "        return n\n",
    "\n",
    "\n",
    "def triplets_to_stream(triplets: Collection[Triplet]) -> stream.Stream:\n",
    "    s = stream.Stream()\n",
    "    _ = [s.append(triplet_to_note(triplet)) for triplet in triplets]\n",
    "    return s\n",
    "\n",
    "\n",
    "def write_midi(stream, name):\n",
    "    mf = midi.translate.streamToMidiFile(stream)\n",
    "    mf.open(f\"{name}.mid\", \"wb\")\n",
    "    mf.write()\n",
    "    mf.close()"
   ]
  },
  {
   "cell_type": "markdown",
   "metadata": {},
   "source": [
    "Now let's try to visualize and listen to these streams."
   ]
  },
  {
   "cell_type": "markdown",
   "metadata": {},
   "source": [
    "If you're running Mac or Linux, uncomment the right `brew` or `apt` call:"
   ]
  },
  {
   "cell_type": "code",
   "execution_count": null,
   "metadata": {},
   "outputs": [
    {
     "name": "stdout",
     "output_type": "stream",
     "text": [
      "--2019-12-08 01:55:32--  ftp://ftp.osuosl.org/pub/musescore/soundfont/MuseScore_General/MuseScore_General.sf3\n",
      "           => ‘MuseScore_General.sf3’\n",
      "Resolving ftp.osuosl.org (ftp.osuosl.org)... 140.211.166.134, 64.50.236.52, 64.50.233.100\n",
      "Connecting to ftp.osuosl.org (ftp.osuosl.org)|140.211.166.134|:21... connected.\n",
      "Logging in as anonymous ... Logged in!\n",
      "==> SYST ... done.    ==> PWD ... done.\n",
      "==> TYPE I ... done.  ==> CWD (1) /pub/musescore/soundfont/MuseScore_General ... done.\n",
      "==> SIZE MuseScore_General.sf3 ... 39893918\n",
      "==> PASV ... done.    ==> RETR MuseScore_General.sf3 ... done.\n",
      "Length: 39893918 (38M) (unauthoritative)\n",
      "\n",
      "MuseScore_General.s 100%[===================>]  38.04M  4.47MB/s    in 12s     \n",
      "\n",
      "2019-12-08 01:55:48 (3.23 MB/s) - ‘MuseScore_General.sf3’ saved [39893918]\n",
      "\n",
      "Requirement already satisfied: midi2audio in /Users/txus/Code/codegram/neuralmusic/env/lib/python3.7/site-packages (0.1.1)\n"
     ]
    },
    {
     "data": {
      "application/javascript": [
       "\n",
       "            setTimeout(function() {\n",
       "                var nbb_cell_id = 70;\n",
       "                var nbb_unformatted_code = \"#!brew install fluidsynth\\n#!apt install fluidsynth\\n!wget ftp://ftp.osuosl.org/pub/musescore/soundfont/MuseScore_General/MuseScore_General.sf3\\n!pip install midi2audio\";\n",
       "                var nbb_formatted_code = \"#!brew install fluidsynth\\n#!apt install fluidsynth\\n!wget ftp://ftp.osuosl.org/pub/musescore/soundfont/MuseScore_General/MuseScore_General.sf3\\n!pip install midi2audio\";\n",
       "                var nbb_cells = Jupyter.notebook.get_cells();\n",
       "                for (var i = 0; i < nbb_cells.length; ++i) {\n",
       "                    if (nbb_cells[i].input_prompt_number == nbb_cell_id) {\n",
       "                        if (nbb_cells[i].get_text() == nbb_unformatted_code) {\n",
       "                             nbb_cells[i].set_text(nbb_formatted_code);\n",
       "                        }\n",
       "                        break;\n",
       "                    }\n",
       "                }\n",
       "            }, 500);\n",
       "            "
      ],
      "text/plain": [
       "<IPython.core.display.Javascript object>"
      ]
     },
     "metadata": {},
     "output_type": "display_data"
    }
   ],
   "source": [
    "# skip\n",
    "# hide\n",
    "\n",
    "#!brew install fluidsynth\n",
    "#!apt install fluidsynth\n",
    "#!wget ftp://ftp.osuosl.org/pub/musescore/soundfont/MuseScore_General/MuseScore_General.sf3\n",
    "#!pip install midi2audio"
   ]
  },
  {
   "cell_type": "code",
   "execution_count": null,
   "metadata": {},
   "outputs": [
    {
     "data": {
      "application/javascript": [
       "\n",
       "            setTimeout(function() {\n",
       "                var nbb_cell_id = 71;\n",
       "                var nbb_unformatted_code = \"import json, random, re\\n\\nfrom IPython.core.display import display, HTML, Javascript\\nfrom IPython.display import Audio\\n\\nfrom midi2audio import FluidSynth\\n\\n\\ndef show_score(score):\\n    xml = open(score.write(\\\"musicxml\\\")).read()\\n    show_xml(xml)\\n\\n\\ndef show_xml(xml):\\n    DIV_ID = \\\"OSMD-div-\\\" + str(random.randint(0, 1000000))\\n    # print(\\\"DIV_ID\\\", DIV_ID)\\n    msg = \\\"loading OpenSheetMusicDisplay\\\"\\n    msg = \\\"\\\"\\n    display(\\n        HTML('<div style=\\\"background: white\\\" id=\\\"' + DIV_ID + '\\\">{}</div>'.format(msg))\\n    )\\n\\n    # print('xml length:', len(xml))\\n\\n    script = \\\"\\\"\\\"\\n    console.log(\\\"loadOSMD()\\\");\\n    function loadOSMD() { \\n        return new Promise(function(resolve, reject){\\n\\n            if (window.opensheetmusicdisplay) {\\n                console.log(\\\"already loaded\\\")\\n                return resolve(window.opensheetmusicdisplay)\\n            }\\n            console.log(\\\"loading osmd for the first time\\\")\\n            // OSMD script has a 'define' call which conflicts with requirejs\\n            var _define = window.define // save the define object \\n            window.define = undefined // now the loaded script will ignore requirejs\\n            var s = document.createElement( 'script' );\\n            s.setAttribute( 'src', \\\"https://cdn.jsdelivr.net/npm/opensheetmusicdisplay@0.3.1/build/opensheetmusicdisplay.min.js\\\" );\\n            //s.setAttribute( 'src', \\\"/custom/opensheetmusicdisplay.js\\\" );\\n            s.onload=function(){\\n                window.define = _define\\n                console.log(\\\"loaded OSMD for the first time\\\",opensheetmusicdisplay)\\n                resolve(opensheetmusicdisplay);\\n            };\\n            document.body.appendChild( s ); // browser will try to load the new script tag\\n        }) \\n    }\\n    loadOSMD().then((OSMD)=>{\\n        console.log(\\\"loaded OSMD\\\",OSMD)\\n        var div_id = \\\"{{DIV_ID}}\\\";\\n            console.log(div_id)\\n        window.openSheetMusicDisplay = new OSMD.OpenSheetMusicDisplay(div_id);\\n        openSheetMusicDisplay\\n            .load({{data}})\\n            .then(\\n              function() {\\n                console.log(\\\"rendering data\\\")\\n                openSheetMusicDisplay.render();\\n              }\\n            );\\n    })\\n    \\\"\\\"\\\".replace(\\n        \\\"{{DIV_ID}}\\\", DIV_ID\\n    ).replace(\\n        \\\"{{data}}\\\", json.dumps(xml)\\n    )\\n    display(Javascript(script))\\n    return DIV_ID\\n\\n\\ndef view_song(triplets, name=\\\"song\\\"):\\n    stream = triplets_to_stream(triplets)\\n    write_midi(stream, f\\\"{name}\\\")\\n\\n    FluidSynth('MuseScore_General.sf3').midi_to_audio(f\\\"{name}.mid\\\", f\\\"{name}.wav\\\")\\n    show_score(stream)\\n    return Audio(f\\\"{name}.wav\\\")\";\n",
       "                var nbb_formatted_code = \"import json, random, re\\n\\nfrom IPython.core.display import display, HTML, Javascript\\nfrom IPython.display import Audio\\n\\nfrom midi2audio import FluidSynth\\n\\n\\ndef show_score(score):\\n    xml = open(score.write(\\\"musicxml\\\")).read()\\n    show_xml(xml)\\n\\n\\ndef show_xml(xml):\\n    DIV_ID = \\\"OSMD-div-\\\" + str(random.randint(0, 1000000))\\n    # print(\\\"DIV_ID\\\", DIV_ID)\\n    msg = \\\"loading OpenSheetMusicDisplay\\\"\\n    msg = \\\"\\\"\\n    display(\\n        HTML('<div style=\\\"background: white\\\" id=\\\"' + DIV_ID + '\\\">{}</div>'.format(msg))\\n    )\\n\\n    # print('xml length:', len(xml))\\n\\n    script = \\\"\\\"\\\"\\n    console.log(\\\"loadOSMD()\\\");\\n    function loadOSMD() { \\n        return new Promise(function(resolve, reject){\\n\\n            if (window.opensheetmusicdisplay) {\\n                console.log(\\\"already loaded\\\")\\n                return resolve(window.opensheetmusicdisplay)\\n            }\\n            console.log(\\\"loading osmd for the first time\\\")\\n            // OSMD script has a 'define' call which conflicts with requirejs\\n            var _define = window.define // save the define object \\n            window.define = undefined // now the loaded script will ignore requirejs\\n            var s = document.createElement( 'script' );\\n            s.setAttribute( 'src', \\\"https://cdn.jsdelivr.net/npm/opensheetmusicdisplay@0.3.1/build/opensheetmusicdisplay.min.js\\\" );\\n            //s.setAttribute( 'src', \\\"/custom/opensheetmusicdisplay.js\\\" );\\n            s.onload=function(){\\n                window.define = _define\\n                console.log(\\\"loaded OSMD for the first time\\\",opensheetmusicdisplay)\\n                resolve(opensheetmusicdisplay);\\n            };\\n            document.body.appendChild( s ); // browser will try to load the new script tag\\n        }) \\n    }\\n    loadOSMD().then((OSMD)=>{\\n        console.log(\\\"loaded OSMD\\\",OSMD)\\n        var div_id = \\\"{{DIV_ID}}\\\";\\n            console.log(div_id)\\n        window.openSheetMusicDisplay = new OSMD.OpenSheetMusicDisplay(div_id);\\n        openSheetMusicDisplay\\n            .load({{data}})\\n            .then(\\n              function() {\\n                console.log(\\\"rendering data\\\")\\n                openSheetMusicDisplay.render();\\n              }\\n            );\\n    })\\n    \\\"\\\"\\\".replace(\\n        \\\"{{DIV_ID}}\\\", DIV_ID\\n    ).replace(\\n        \\\"{{data}}\\\", json.dumps(xml)\\n    )\\n    display(Javascript(script))\\n    return DIV_ID\\n\\n\\ndef view_song(triplets, name=\\\"song\\\"):\\n    stream = triplets_to_stream(triplets)\\n    write_midi(stream, f\\\"{name}\\\")\\n\\n    FluidSynth(\\\"MuseScore_General.sf3\\\").midi_to_audio(f\\\"{name}.mid\\\", f\\\"{name}.wav\\\")\\n    show_score(stream)\\n    return Audio(f\\\"{name}.wav\\\")\";\n",
       "                var nbb_cells = Jupyter.notebook.get_cells();\n",
       "                for (var i = 0; i < nbb_cells.length; ++i) {\n",
       "                    if (nbb_cells[i].input_prompt_number == nbb_cell_id) {\n",
       "                        if (nbb_cells[i].get_text() == nbb_unformatted_code) {\n",
       "                             nbb_cells[i].set_text(nbb_formatted_code);\n",
       "                        }\n",
       "                        break;\n",
       "                    }\n",
       "                }\n",
       "            }, 500);\n",
       "            "
      ],
      "text/plain": [
       "<IPython.core.display.Javascript object>"
      ]
     },
     "metadata": {},
     "output_type": "display_data"
    }
   ],
   "source": [
    "# skip\n",
    "# hide\n",
    "\n",
    "%load_ext music21.ipython21.ipExtension\n",
    "\n",
    "import json, random\n",
    "\n",
    "from IPython.core.display import display, HTML, Javascript\n",
    "from IPython.display import Audio\n",
    "\n",
    "from midi2audio import FluidSynth\n",
    "\n",
    "\n",
    "def show_score(score):\n",
    "    xml = open(score.write(\"musicxml\")).read()\n",
    "    show_xml(xml)\n",
    "\n",
    "\n",
    "def show_xml(xml):\n",
    "    DIV_ID = \"OSMD-div-\" + str(random.randint(0, 1000000))\n",
    "    # print(\"DIV_ID\", DIV_ID)\n",
    "    msg = \"loading OpenSheetMusicDisplay\"\n",
    "    msg = \"\"\n",
    "    display(\n",
    "        HTML('<div style=\"background: white\" id=\"' + DIV_ID + '\">{}</div>'.format(msg))\n",
    "    )\n",
    "\n",
    "    # print('xml length:', len(xml))\n",
    "\n",
    "    script = \"\"\"\n",
    "    console.log(\"loadOSMD()\");\n",
    "    function loadOSMD() { \n",
    "        return new Promise(function(resolve, reject){\n",
    "\n",
    "            if (window.opensheetmusicdisplay) {\n",
    "                console.log(\"already loaded\")\n",
    "                return resolve(window.opensheetmusicdisplay)\n",
    "            }\n",
    "            console.log(\"loading osmd for the first time\")\n",
    "            // OSMD script has a 'define' call which conflicts with requirejs\n",
    "            var _define = window.define // save the define object \n",
    "            window.define = undefined // now the loaded script will ignore requirejs\n",
    "            var s = document.createElement( 'script' );\n",
    "            s.setAttribute( 'src', \"https://cdn.jsdelivr.net/npm/opensheetmusicdisplay@0.3.1/build/opensheetmusicdisplay.min.js\" );\n",
    "            //s.setAttribute( 'src', \"/custom/opensheetmusicdisplay.js\" );\n",
    "            s.onload=function(){\n",
    "                window.define = _define\n",
    "                console.log(\"loaded OSMD for the first time\",opensheetmusicdisplay)\n",
    "                resolve(opensheetmusicdisplay);\n",
    "            };\n",
    "            document.body.appendChild( s ); // browser will try to load the new script tag\n",
    "        }) \n",
    "    }\n",
    "    loadOSMD().then((OSMD)=>{\n",
    "        console.log(\"loaded OSMD\",OSMD)\n",
    "        var div_id = \"{{DIV_ID}}\";\n",
    "            console.log(div_id)\n",
    "        window.openSheetMusicDisplay = new OSMD.OpenSheetMusicDisplay(div_id);\n",
    "        openSheetMusicDisplay\n",
    "            .load({{data}})\n",
    "            .then(\n",
    "              function() {\n",
    "                console.log(\"rendering data\")\n",
    "                openSheetMusicDisplay.render();\n",
    "              }\n",
    "            );\n",
    "    })\n",
    "    \"\"\".replace(\n",
    "        \"{{DIV_ID}}\", DIV_ID\n",
    "    ).replace(\n",
    "        \"{{data}}\", json.dumps(xml)\n",
    "    )\n",
    "    display(Javascript(script))\n",
    "    return DIV_ID\n",
    "\n",
    "\n",
    "def view_song(triplets, name=\"song\"):\n",
    "    stream = triplets_to_stream(triplets)\n",
    "    write_midi(stream, f\"{name}\")\n",
    "\n",
    "    FluidSynth(\"MuseScore_General.sf3\").midi_to_audio(f\"{name}.mid\", f\"{name}.wav\")\n",
    "    show_score(stream)\n",
    "    return Audio(f\"{name}.wav\")"
   ]
  },
  {
   "cell_type": "code",
   "execution_count": null,
   "metadata": {},
   "outputs": [],
   "source": [
    "# skip\n",
    "triplets = row_to_triplets(df, 0)\n",
    "view_song(triplets)"
   ]
  }
 ],
 "metadata": {
  "kernelspec": {
   "display_name": "Python 3",
   "language": "python",
   "name": "python3"
  }
 },
 "nbformat": 4,
 "nbformat_minor": 2
}
