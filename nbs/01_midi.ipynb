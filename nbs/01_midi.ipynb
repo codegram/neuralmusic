{
 "cells": [
  {
   "cell_type": "code",
   "execution_count": null,
   "metadata": {},
   "outputs": [
    {
     "name": "stdout",
     "output_type": "stream",
     "text": [
      "The nb_black extension is already loaded. To reload it, use:\n",
      "  %reload_ext nb_black\n"
     ]
    },
    {
     "data": {
      "application/javascript": [
       "\n",
       "            setTimeout(function() {\n",
       "                var nbb_cell_id = 9;\n",
       "                var nbb_unformatted_code = \"# hide\\n%load_ext nb_black\";\n",
       "                var nbb_formatted_code = \"# hide\\n%load_ext nb_black\";\n",
       "                var nbb_cells = Jupyter.notebook.get_cells();\n",
       "                for (var i = 0; i < nbb_cells.length; ++i) {\n",
       "                    if (nbb_cells[i].input_prompt_number == nbb_cell_id) {\n",
       "                        if (nbb_cells[i].get_text() == nbb_unformatted_code) {\n",
       "                             nbb_cells[i].set_text(nbb_formatted_code);\n",
       "                        }\n",
       "                        break;\n",
       "                    }\n",
       "                }\n",
       "            }, 500);\n",
       "            "
      ],
      "text/plain": [
       "<IPython.core.display.Javascript object>"
      ]
     },
     "metadata": {},
     "output_type": "display_data"
    }
   ],
   "source": [
    "# hide\n",
    "%load_ext nb_black"
   ]
  },
  {
   "cell_type": "code",
   "execution_count": null,
   "metadata": {},
   "outputs": [
    {
     "data": {
      "application/javascript": [
       "\n",
       "            setTimeout(function() {\n",
       "                var nbb_cell_id = 10;\n",
       "                var nbb_unformatted_code = \"# default_exp midi\";\n",
       "                var nbb_formatted_code = \"# default_exp midi\";\n",
       "                var nbb_cells = Jupyter.notebook.get_cells();\n",
       "                for (var i = 0; i < nbb_cells.length; ++i) {\n",
       "                    if (nbb_cells[i].input_prompt_number == nbb_cell_id) {\n",
       "                        if (nbb_cells[i].get_text() == nbb_unformatted_code) {\n",
       "                             nbb_cells[i].set_text(nbb_formatted_code);\n",
       "                        }\n",
       "                        break;\n",
       "                    }\n",
       "                }\n",
       "            }, 500);\n",
       "            "
      ],
      "text/plain": [
       "<IPython.core.display.Javascript object>"
      ]
     },
     "metadata": {},
     "output_type": "display_data"
    }
   ],
   "source": [
    "# default_exp midi"
   ]
  },
  {
   "cell_type": "code",
   "execution_count": null,
   "metadata": {},
   "outputs": [
    {
     "data": {
      "application/javascript": [
       "\n",
       "            setTimeout(function() {\n",
       "                var nbb_cell_id = 74;\n",
       "                var nbb_unformatted_code = \"# export\\nfrom typing import Optional, Tuple, Collection\\nimport re\\n\\nfrom music21 import converter, instrument, note, chord, stream, volume, duration, midi\\nfrom music21.midi import MidiException\\nimport pandas as pd\";\n",
       "                var nbb_formatted_code = \"# export\\nfrom typing import Optional, Tuple, Collection\\nimport re\\n\\nfrom music21 import converter, instrument, note, chord, stream, volume, duration, midi\\nfrom music21.midi import MidiException\\nimport pandas as pd\";\n",
       "                var nbb_cells = Jupyter.notebook.get_cells();\n",
       "                for (var i = 0; i < nbb_cells.length; ++i) {\n",
       "                    if (nbb_cells[i].input_prompt_number == nbb_cell_id) {\n",
       "                        if (nbb_cells[i].get_text() == nbb_unformatted_code) {\n",
       "                             nbb_cells[i].set_text(nbb_formatted_code);\n",
       "                        }\n",
       "                        break;\n",
       "                    }\n",
       "                }\n",
       "            }, 500);\n",
       "            "
      ],
      "text/plain": [
       "<IPython.core.display.Javascript object>"
      ]
     },
     "metadata": {},
     "output_type": "display_data"
    }
   ],
   "source": [
    "# export\n",
    "from typing import Optional, Tuple, Collection\n",
    "import re\n",
    "\n",
    "from music21 import converter, instrument, note, chord, stream, volume, duration, midi\n",
    "from music21.midi import MidiException\n",
    "import pandas as pd"
   ]
  },
  {
   "cell_type": "code",
   "execution_count": null,
   "metadata": {},
   "outputs": [
    {
     "data": {
      "application/javascript": [
       "\n",
       "            setTimeout(function() {\n",
       "                var nbb_cell_id = 75;\n",
       "                var nbb_unformatted_code = \"from test import test_eq\";\n",
       "                var nbb_formatted_code = \"from test import test_eq\";\n",
       "                var nbb_cells = Jupyter.notebook.get_cells();\n",
       "                for (var i = 0; i < nbb_cells.length; ++i) {\n",
       "                    if (nbb_cells[i].input_prompt_number == nbb_cell_id) {\n",
       "                        if (nbb_cells[i].get_text() == nbb_unformatted_code) {\n",
       "                             nbb_cells[i].set_text(nbb_formatted_code);\n",
       "                        }\n",
       "                        break;\n",
       "                    }\n",
       "                }\n",
       "            }, 500);\n",
       "            "
      ],
      "text/plain": [
       "<IPython.core.display.Javascript object>"
      ]
     },
     "metadata": {},
     "output_type": "display_data"
    }
   ],
   "source": [
    "from test import test_eq"
   ]
  },
  {
   "cell_type": "markdown",
   "metadata": {},
   "source": [
    "# Representing MIDI notes as triplets\n",
    "\n",
    "Although MIDI notes have a lot of information, we want to distill them into a triplet -- namely pitch, duration and velocity:"
   ]
  },
  {
   "cell_type": "code",
   "execution_count": null,
   "metadata": {},
   "outputs": [
    {
     "data": {
      "application/javascript": [
       "\n",
       "            setTimeout(function() {\n",
       "                var nbb_cell_id = 13;\n",
       "                var nbb_unformatted_code = \"# export\\n\\nPitch, Duration, Velocity = str, float, int\\nTriplet = Tuple[Pitch, Duration, Velocity]\";\n",
       "                var nbb_formatted_code = \"# export\\n\\nPitch, Duration, Velocity = str, float, int\\nTriplet = Tuple[Pitch, Duration, Velocity]\";\n",
       "                var nbb_cells = Jupyter.notebook.get_cells();\n",
       "                for (var i = 0; i < nbb_cells.length; ++i) {\n",
       "                    if (nbb_cells[i].input_prompt_number == nbb_cell_id) {\n",
       "                        if (nbb_cells[i].get_text() == nbb_unformatted_code) {\n",
       "                             nbb_cells[i].set_text(nbb_formatted_code);\n",
       "                        }\n",
       "                        break;\n",
       "                    }\n",
       "                }\n",
       "            }, 500);\n",
       "            "
      ],
      "text/plain": [
       "<IPython.core.display.Javascript object>"
      ]
     },
     "metadata": {},
     "output_type": "display_data"
    }
   ],
   "source": [
    "# export\n",
    "\n",
    "Pitch, Duration, Velocity = str, float, int\n",
    "Triplet = Tuple[Pitch, Duration, Velocity]"
   ]
  },
  {
   "cell_type": "markdown",
   "metadata": {},
   "source": [
    "First we'll create some functions to turn single notes, chords and rests into these Triplets."
   ]
  },
  {
   "cell_type": "code",
   "execution_count": null,
   "metadata": {},
   "outputs": [
    {
     "data": {
      "application/javascript": [
       "\n",
       "            setTimeout(function() {\n",
       "                var nbb_cell_id = 14;\n",
       "                var nbb_unformatted_code = \"# export\\n\\n\\ndef parse_single_note(note: note.Note) -> Triplet:\\n    return (str(note.pitch), float(note.duration.quarterLength), note.volume.velocity)\\n\\n\\ndef parse_chord(chord: chord.Chord) -> Triplet:\\n    return (\\n        \\\".\\\".join(str(n) for n in chord.normalOrder),\\n        float(chord.duration.quarterLength),\\n        chord.volume.velocity,\\n    )\\n\\n\\ndef parse_rest(rest: note.Rest) -> Triplet:\\n    return (\\\"R\\\", float(rest.duration.quarterLength), 0)\";\n",
       "                var nbb_formatted_code = \"# export\\n\\n\\ndef parse_single_note(note: note.Note) -> Triplet:\\n    return (str(note.pitch), float(note.duration.quarterLength), note.volume.velocity)\\n\\n\\ndef parse_chord(chord: chord.Chord) -> Triplet:\\n    return (\\n        \\\".\\\".join(str(n) for n in chord.normalOrder),\\n        float(chord.duration.quarterLength),\\n        chord.volume.velocity,\\n    )\\n\\n\\ndef parse_rest(rest: note.Rest) -> Triplet:\\n    return (\\\"R\\\", float(rest.duration.quarterLength), 0)\";\n",
       "                var nbb_cells = Jupyter.notebook.get_cells();\n",
       "                for (var i = 0; i < nbb_cells.length; ++i) {\n",
       "                    if (nbb_cells[i].input_prompt_number == nbb_cell_id) {\n",
       "                        if (nbb_cells[i].get_text() == nbb_unformatted_code) {\n",
       "                             nbb_cells[i].set_text(nbb_formatted_code);\n",
       "                        }\n",
       "                        break;\n",
       "                    }\n",
       "                }\n",
       "            }, 500);\n",
       "            "
      ],
      "text/plain": [
       "<IPython.core.display.Javascript object>"
      ]
     },
     "metadata": {},
     "output_type": "display_data"
    }
   ],
   "source": [
    "# export\n",
    "\n",
    "\n",
    "def parse_single_note(note: note.Note) -> Triplet:\n",
    "    return (str(note.pitch), float(note.duration.quarterLength), note.volume.velocity)\n",
    "\n",
    "\n",
    "def parse_chord(chord: chord.Chord) -> Triplet:\n",
    "    return (\n",
    "        \".\".join(str(n) for n in chord.normalOrder),\n",
    "        float(chord.duration.quarterLength),\n",
    "        chord.volume.velocity,\n",
    "    )\n",
    "\n",
    "\n",
    "def parse_rest(rest: note.Rest) -> Triplet:\n",
    "    return (\"R\", float(rest.duration.quarterLength), 0)"
   ]
  },
  {
   "cell_type": "code",
   "execution_count": null,
   "metadata": {},
   "outputs": [
    {
     "data": {
      "application/javascript": [
       "\n",
       "            setTimeout(function() {\n",
       "                var nbb_cell_id = 15;\n",
       "                var nbb_unformatted_code = \"# test\\nquarter = duration.Duration(\\\"quarter\\\")\\n\\n\\ndef loud(n: note.Note, velocity=120) -> note.Note:\\n    n.volume = volume.Volume(velocity=velocity)\\n    return n\\n\\n\\ntest_eq((\\\"C3\\\", 1.0, 120), parse_single_note(loud(note.Note(\\\"C3\\\", duration=quarter))))\\ntest_eq(\\n    (\\\"1.3.5\\\", 1.0, 80),\\n    parse_chord(loud(chord.Chord([1, 3, 5], duration=quarter), velocity=80)),\\n)\\ntest_eq((\\\"R\\\", 1.0, 0), parse_rest(note.Rest(duration=quarter)))\";\n",
       "                var nbb_formatted_code = \"# test\\nquarter = duration.Duration(\\\"quarter\\\")\\n\\n\\ndef loud(n: note.Note, velocity=120) -> note.Note:\\n    n.volume = volume.Volume(velocity=velocity)\\n    return n\\n\\n\\ntest_eq((\\\"C3\\\", 1.0, 120), parse_single_note(loud(note.Note(\\\"C3\\\", duration=quarter))))\\ntest_eq(\\n    (\\\"1.3.5\\\", 1.0, 80),\\n    parse_chord(loud(chord.Chord([1, 3, 5], duration=quarter), velocity=80)),\\n)\\ntest_eq((\\\"R\\\", 1.0, 0), parse_rest(note.Rest(duration=quarter)))\";\n",
       "                var nbb_cells = Jupyter.notebook.get_cells();\n",
       "                for (var i = 0; i < nbb_cells.length; ++i) {\n",
       "                    if (nbb_cells[i].input_prompt_number == nbb_cell_id) {\n",
       "                        if (nbb_cells[i].get_text() == nbb_unformatted_code) {\n",
       "                             nbb_cells[i].set_text(nbb_formatted_code);\n",
       "                        }\n",
       "                        break;\n",
       "                    }\n",
       "                }\n",
       "            }, 500);\n",
       "            "
      ],
      "text/plain": [
       "<IPython.core.display.Javascript object>"
      ]
     },
     "metadata": {},
     "output_type": "display_data"
    }
   ],
   "source": [
    "# test\n",
    "quarter = duration.Duration(\"quarter\")\n",
    "\n",
    "\n",
    "def loud(n: note.Note, velocity=120) -> note.Note:\n",
    "    n.volume = volume.Volume(velocity=velocity)\n",
    "    return n\n",
    "\n",
    "\n",
    "test_eq((\"C3\", 1.0, 120), parse_single_note(loud(note.Note(\"C3\", duration=quarter))))\n",
    "test_eq(\n",
    "    (\"1.3.5\", 1.0, 80),\n",
    "    parse_chord(loud(chord.Chord([1, 3, 5], duration=quarter), velocity=80)),\n",
    ")\n",
    "test_eq((\"R\", 1.0, 0), parse_rest(note.Rest(duration=quarter)))"
   ]
  },
  {
   "cell_type": "code",
   "execution_count": null,
   "metadata": {},
   "outputs": [
    {
     "data": {
      "application/javascript": [
       "\n",
       "            setTimeout(function() {\n",
       "                var nbb_cell_id = 77;\n",
       "                var nbb_unformatted_code = \"# export\\n\\ndef parse_midi_file(file: str) -> (Optional[pd.DataFrame], int):\\n    \\\"\\\"\\\"\\n    Attempts to parse a midi file into a Dataframe. Returns a Dataframe or None, together with the number of notes processed.\\n    \\\"\\\"\\\"\\n    try:\\n        midi = converter.parse(file)\\n        notes_to_parse = None\\n        parts = instrument.partitionByInstrument(midi)\\n        notes = []\\n        if parts:  # file has instrument parts\\n            notes_to_parse = parts.parts[0].recurse()\\n        else:  # file has notes in a flat structure\\n            notes_to_parse = midi.flat.notes\\n        for element in notes_to_parse:\\n            if element.__class__ == note.Note:\\n                notes.append(parse_single_note(element))\\n            elif element.__class__ == chord.Chord:\\n                notes.append(parse_chord(element))\\n            elif element.__class__ == note.Rest:\\n                notes.append(parse_rest(element))\\n\\n        df = pd.DataFrame.from_dict(\\n            {\\n                \\\"pitches\\\": [[[pitch for (pitch, dur, velocity) in notes]]],\\n                \\\"durations\\\": [[[dur for (pitch, dur, velocity) in notes]]],\\n                \\\"velocities\\\": [[[velocity for (pitch, dur, velocity) in notes]]],\\n            }\\n        )\\n        return (df, len(notes))\\n    except MidiException:\\n        return (None, 0)\\n    except IndexError:\\n        return (None, 0)\\n\\n\\ndef row_to_triplets(df: pd.DataFrame, row_index: int) -> Collection[Triplet]:\\n    \\\"\\\"\\\"\\n    Takes a DataFrame at a specific row and turns that into a triplet.\\n    \\\"\\\"\\\"\\n    pitches, durations, velocities = df.values[row_index]\\n    pitches = pitches[0]\\n    durations = durations[0]\\n    velocities = velocities[0]\\n    return list(zip(pitches, durations, velocities))\";\n",
       "                var nbb_formatted_code = \"# export\\n\\n\\ndef parse_midi_file(file: str) -> (Optional[pd.DataFrame], int):\\n    \\\"\\\"\\\"\\n    Attempts to parse a midi file into a Dataframe. Returns a Dataframe or None, together with the number of notes processed.\\n    \\\"\\\"\\\"\\n    try:\\n        midi = converter.parse(file)\\n        notes_to_parse = None\\n        parts = instrument.partitionByInstrument(midi)\\n        notes = []\\n        if parts:  # file has instrument parts\\n            notes_to_parse = parts.parts[0].recurse()\\n        else:  # file has notes in a flat structure\\n            notes_to_parse = midi.flat.notes\\n        for element in notes_to_parse:\\n            if element.__class__ == note.Note:\\n                notes.append(parse_single_note(element))\\n            elif element.__class__ == chord.Chord:\\n                notes.append(parse_chord(element))\\n            elif element.__class__ == note.Rest:\\n                notes.append(parse_rest(element))\\n\\n        df = pd.DataFrame.from_dict(\\n            {\\n                \\\"pitches\\\": [[[pitch for (pitch, dur, velocity) in notes]]],\\n                \\\"durations\\\": [[[dur for (pitch, dur, velocity) in notes]]],\\n                \\\"velocities\\\": [[[velocity for (pitch, dur, velocity) in notes]]],\\n            }\\n        )\\n        return (df, len(notes))\\n    except MidiException:\\n        return (None, 0)\\n    except IndexError:\\n        return (None, 0)\\n\\n\\ndef row_to_triplets(df: pd.DataFrame, row_index: int) -> Collection[Triplet]:\\n    \\\"\\\"\\\"\\n    Takes a DataFrame at a specific row and turns that into a triplet.\\n    \\\"\\\"\\\"\\n    pitches, durations, velocities = df.values[row_index]\\n    pitches = pitches[0]\\n    durations = durations[0]\\n    velocities = velocities[0]\\n    return list(zip(pitches, durations, velocities))\";\n",
       "                var nbb_cells = Jupyter.notebook.get_cells();\n",
       "                for (var i = 0; i < nbb_cells.length; ++i) {\n",
       "                    if (nbb_cells[i].input_prompt_number == nbb_cell_id) {\n",
       "                        if (nbb_cells[i].get_text() == nbb_unformatted_code) {\n",
       "                             nbb_cells[i].set_text(nbb_formatted_code);\n",
       "                        }\n",
       "                        break;\n",
       "                    }\n",
       "                }\n",
       "            }, 500);\n",
       "            "
      ],
      "text/plain": [
       "<IPython.core.display.Javascript object>"
      ]
     },
     "metadata": {},
     "output_type": "display_data"
    }
   ],
   "source": [
    "# export\n",
    "\n",
    "\n",
    "def parse_midi_file(file: str) -> (Optional[pd.DataFrame], int):\n",
    "    \"\"\"\n",
    "    Attempts to parse a midi file into a Dataframe. Returns a Dataframe or None, together with the number of notes processed.\n",
    "    \"\"\"\n",
    "    try:\n",
    "        midi = converter.parse(file)\n",
    "        notes_to_parse = None\n",
    "        parts = instrument.partitionByInstrument(midi)\n",
    "        notes = []\n",
    "        if parts:  # file has instrument parts\n",
    "            notes_to_parse = parts.parts[0].recurse()\n",
    "        else:  # file has notes in a flat structure\n",
    "            notes_to_parse = midi.flat.notes\n",
    "        for element in notes_to_parse:\n",
    "            if element.__class__ == note.Note:\n",
    "                notes.append(parse_single_note(element))\n",
    "            elif element.__class__ == chord.Chord:\n",
    "                notes.append(parse_chord(element))\n",
    "            elif element.__class__ == note.Rest:\n",
    "                notes.append(parse_rest(element))\n",
    "\n",
    "        df = pd.DataFrame.from_dict(\n",
    "            {\n",
    "                \"pitches\": [[[pitch for (pitch, dur, velocity) in notes]]],\n",
    "                \"durations\": [[[dur for (pitch, dur, velocity) in notes]]],\n",
    "                \"velocities\": [[[velocity for (pitch, dur, velocity) in notes]]],\n",
    "            }\n",
    "        )\n",
    "        return (df, len(notes))\n",
    "    except MidiException:\n",
    "        return (None, 0)\n",
    "    except IndexError:\n",
    "        return (None, 0)\n",
    "\n",
    "\n",
    "def row_to_triplets(df: pd.DataFrame, row_index: int) -> Collection[Triplet]:\n",
    "    \"\"\"\n",
    "    Takes a DataFrame at a specific row and turns that into a triplet.\n",
    "    \"\"\"\n",
    "    pitches, durations, velocities = df.values[row_index]\n",
    "    pitches = pitches[0]\n",
    "    durations = durations[0]\n",
    "    velocities = velocities[0]\n",
    "    return list(zip(pitches, durations, velocities))"
   ]
  },
  {
   "cell_type": "code",
   "execution_count": null,
   "metadata": {},
   "outputs": [
    {
     "data": {
      "application/javascript": [
       "\n",
       "            setTimeout(function() {\n",
       "                var nbb_cell_id = 50;\n",
       "                var nbb_unformatted_code = \"# test\\ndf, notes = parse_midi_file(\\\"data/ff4-main.mid\\\")\\n\\ntest_eq(812, notes)\\n\\ntriplets = row_to_triplets(df, 0)\\n\\ntest_eq([(\\\"A5\\\", 0.5, 110), (\\\"R\\\", 192.0, 0), (\\\"E5\\\", 0.5, 110)], triplets[0:3])\";\n",
       "                var nbb_formatted_code = \"# test\\ndf, notes = parse_midi_file(\\\"data/ff4-main.mid\\\")\\n\\ntest_eq(812, notes)\\n\\ntriplets = row_to_triplets(df, 0)\\n\\ntest_eq([(\\\"A5\\\", 0.5, 110), (\\\"R\\\", 192.0, 0), (\\\"E5\\\", 0.5, 110)], triplets[0:3])\";\n",
       "                var nbb_cells = Jupyter.notebook.get_cells();\n",
       "                for (var i = 0; i < nbb_cells.length; ++i) {\n",
       "                    if (nbb_cells[i].input_prompt_number == nbb_cell_id) {\n",
       "                        if (nbb_cells[i].get_text() == nbb_unformatted_code) {\n",
       "                             nbb_cells[i].set_text(nbb_formatted_code);\n",
       "                        }\n",
       "                        break;\n",
       "                    }\n",
       "                }\n",
       "            }, 500);\n",
       "            "
      ],
      "text/plain": [
       "<IPython.core.display.Javascript object>"
      ]
     },
     "metadata": {},
     "output_type": "display_data"
    }
   ],
   "source": [
    "# test\n",
    "df, notes = parse_midi_file(\"data/ff4-main.mid\")\n",
    "\n",
    "test_eq(812, notes)\n",
    "\n",
    "triplets = row_to_triplets(df, 0)\n",
    "\n",
    "test_eq([(\"A5\", 0.5, 110), (\"R\", 192.0, 0), (\"E5\", 0.5, 110)], triplets[0:3])"
   ]
  },
  {
   "cell_type": "markdown",
   "metadata": {},
   "source": [
    "# Turning triplets back into MIDI files\n",
    "\n",
    "Another interesting thing is to be able to go from triplets to MIDI files, display their scores and even an audible IPython widget to play the audio.\n",
    "\n",
    "But first of all, some utilities to turn these triplets into `music21` elements:"
   ]
  },
  {
   "cell_type": "code",
   "execution_count": null,
   "metadata": {},
   "outputs": [
    {
     "data": {
      "application/javascript": [
       "\n",
       "            setTimeout(function() {\n",
       "                var nbb_cell_id = 76;\n",
       "                var nbb_unformatted_code = \"# export\\n\\ndef triplet_to_note(triplet: Triplet):\\n    pitch, dur, vel = triplet\\n    dur = duration.Duration(dur)\\n    vol = volume.Volume(velocity=vel)\\n    if re.match(r\\\"^[0-9]\\\", pitch):\\n        c = chord.Chord([int(x) for x in pitch.split(\\\".\\\")], duration=dur)\\n        c.volume = vol\\n        return c\\n    elif pitch == \\\"R\\\":\\n        return note.Rest(duration=dur)\\n    else:\\n        n = note.Note(pitch, duration=dur)\\n        n.volume = vol\\n        return n\\n\\n\\ndef triplets_to_stream(triplets: Collection[Triplet]) -> stream.Stream:\\n    s = stream.Stream()\\n    _ = [s.append(triplet_to_note(triplet)) for triplet in triplets]\\n    return s\\n\\n\\ndef write_midi(stream, name):\\n    mf = midi.translate.streamToMidiFile(stream)\\n    mf.open(f\\\"{name}.mid\\\", \\\"wb\\\")\\n    mf.write()\\n    mf.close()\";\n",
       "                var nbb_formatted_code = \"# export\\n\\n\\ndef triplet_to_note(triplet: Triplet):\\n    pitch, dur, vel = triplet\\n    dur = duration.Duration(dur)\\n    vol = volume.Volume(velocity=vel)\\n    if re.match(r\\\"^[0-9]\\\", pitch):\\n        c = chord.Chord([int(x) for x in pitch.split(\\\".\\\")], duration=dur)\\n        c.volume = vol\\n        return c\\n    elif pitch == \\\"R\\\":\\n        return note.Rest(duration=dur)\\n    else:\\n        n = note.Note(pitch, duration=dur)\\n        n.volume = vol\\n        return n\\n\\n\\ndef triplets_to_stream(triplets: Collection[Triplet]) -> stream.Stream:\\n    s = stream.Stream()\\n    _ = [s.append(triplet_to_note(triplet)) for triplet in triplets]\\n    return s\\n\\n\\ndef write_midi(stream, name):\\n    mf = midi.translate.streamToMidiFile(stream)\\n    mf.open(f\\\"{name}.mid\\\", \\\"wb\\\")\\n    mf.write()\\n    mf.close()\";\n",
       "                var nbb_cells = Jupyter.notebook.get_cells();\n",
       "                for (var i = 0; i < nbb_cells.length; ++i) {\n",
       "                    if (nbb_cells[i].input_prompt_number == nbb_cell_id) {\n",
       "                        if (nbb_cells[i].get_text() == nbb_unformatted_code) {\n",
       "                             nbb_cells[i].set_text(nbb_formatted_code);\n",
       "                        }\n",
       "                        break;\n",
       "                    }\n",
       "                }\n",
       "            }, 500);\n",
       "            "
      ],
      "text/plain": [
       "<IPython.core.display.Javascript object>"
      ]
     },
     "metadata": {},
     "output_type": "display_data"
    }
   ],
   "source": [
    "# export\n",
    "\n",
    "\n",
    "def triplet_to_note(triplet: Triplet):\n",
    "    pitch, dur, vel = triplet\n",
    "    dur = duration.Duration(dur)\n",
    "    vol = volume.Volume(velocity=vel)\n",
    "    if re.match(r\"^[0-9]\", pitch):\n",
    "        c = chord.Chord([int(x) for x in pitch.split(\".\")], duration=dur)\n",
    "        c.volume = vol\n",
    "        return c\n",
    "    elif pitch == \"R\":\n",
    "        return note.Rest(duration=dur)\n",
    "    else:\n",
    "        n = note.Note(pitch, duration=dur)\n",
    "        n.volume = vol\n",
    "        return n\n",
    "\n",
    "\n",
    "def triplets_to_stream(triplets: Collection[Triplet]) -> stream.Stream:\n",
    "    s = stream.Stream()\n",
    "    _ = [s.append(triplet_to_note(triplet)) for triplet in triplets]\n",
    "    return s\n",
    "\n",
    "\n",
    "def write_midi(stream, name):\n",
    "    mf = midi.translate.streamToMidiFile(stream)\n",
    "    mf.open(f\"{name}.mid\", \"wb\")\n",
    "    mf.write()\n",
    "    mf.close()"
   ]
  },
  {
   "cell_type": "markdown",
   "metadata": {},
   "source": [
    "Now let's try to visualize and listen to these streams."
   ]
  },
  {
   "cell_type": "markdown",
   "metadata": {},
   "source": [
    "If you're running Mac or Linux, uncomment the right `brew` or `apt` call:"
   ]
  },
  {
   "cell_type": "code",
   "execution_count": null,
   "metadata": {},
   "outputs": [
    {
     "name": "stdout",
     "output_type": "stream",
     "text": [
      "--2019-12-08 01:55:32--  ftp://ftp.osuosl.org/pub/musescore/soundfont/MuseScore_General/MuseScore_General.sf3\n",
      "           => ‘MuseScore_General.sf3’\n",
      "Resolving ftp.osuosl.org (ftp.osuosl.org)... 140.211.166.134, 64.50.236.52, 64.50.233.100\n",
      "Connecting to ftp.osuosl.org (ftp.osuosl.org)|140.211.166.134|:21... connected.\n",
      "Logging in as anonymous ... Logged in!\n",
      "==> SYST ... done.    ==> PWD ... done.\n",
      "==> TYPE I ... done.  ==> CWD (1) /pub/musescore/soundfont/MuseScore_General ... done.\n",
      "==> SIZE MuseScore_General.sf3 ... 39893918\n",
      "==> PASV ... done.    ==> RETR MuseScore_General.sf3 ... done.\n",
      "Length: 39893918 (38M) (unauthoritative)\n",
      "\n",
      "MuseScore_General.s 100%[===================>]  38.04M  4.47MB/s    in 12s     \n",
      "\n",
      "2019-12-08 01:55:48 (3.23 MB/s) - ‘MuseScore_General.sf3’ saved [39893918]\n",
      "\n",
      "Requirement already satisfied: midi2audio in /Users/txus/Code/codegram/neuralmusic/env/lib/python3.7/site-packages (0.1.1)\n"
     ]
    },
    {
     "data": {
      "application/javascript": [
       "\n",
       "            setTimeout(function() {\n",
       "                var nbb_cell_id = 70;\n",
       "                var nbb_unformatted_code = \"#!brew install fluidsynth\\n#!apt install fluidsynth\\n!wget ftp://ftp.osuosl.org/pub/musescore/soundfont/MuseScore_General/MuseScore_General.sf3\\n!pip install midi2audio\";\n",
       "                var nbb_formatted_code = \"#!brew install fluidsynth\\n#!apt install fluidsynth\\n!wget ftp://ftp.osuosl.org/pub/musescore/soundfont/MuseScore_General/MuseScore_General.sf3\\n!pip install midi2audio\";\n",
       "                var nbb_cells = Jupyter.notebook.get_cells();\n",
       "                for (var i = 0; i < nbb_cells.length; ++i) {\n",
       "                    if (nbb_cells[i].input_prompt_number == nbb_cell_id) {\n",
       "                        if (nbb_cells[i].get_text() == nbb_unformatted_code) {\n",
       "                             nbb_cells[i].set_text(nbb_formatted_code);\n",
       "                        }\n",
       "                        break;\n",
       "                    }\n",
       "                }\n",
       "            }, 500);\n",
       "            "
      ],
      "text/plain": [
       "<IPython.core.display.Javascript object>"
      ]
     },
     "metadata": {},
     "output_type": "display_data"
    }
   ],
   "source": [
    "# skip\n",
    "\n",
    "#!brew install fluidsynth\n",
    "#!apt install fluidsynth\n",
    "#!wget ftp://ftp.osuosl.org/pub/musescore/soundfont/MuseScore_General/MuseScore_General.sf3\n",
    "#!pip install midi2audio"
   ]
  },
  {
   "cell_type": "code",
   "execution_count": null,
   "metadata": {},
   "outputs": [
    {
     "data": {
      "application/javascript": [
       "\n",
       "            setTimeout(function() {\n",
       "                var nbb_cell_id = 71;\n",
       "                var nbb_unformatted_code = \"import json, random, re\\n\\nfrom IPython.core.display import display, HTML, Javascript\\nfrom IPython.display import Audio\\n\\nfrom midi2audio import FluidSynth\\n\\n\\ndef show_score(score):\\n    xml = open(score.write(\\\"musicxml\\\")).read()\\n    show_xml(xml)\\n\\n\\ndef show_xml(xml):\\n    DIV_ID = \\\"OSMD-div-\\\" + str(random.randint(0, 1000000))\\n    # print(\\\"DIV_ID\\\", DIV_ID)\\n    msg = \\\"loading OpenSheetMusicDisplay\\\"\\n    msg = \\\"\\\"\\n    display(\\n        HTML('<div style=\\\"background: white\\\" id=\\\"' + DIV_ID + '\\\">{}</div>'.format(msg))\\n    )\\n\\n    # print('xml length:', len(xml))\\n\\n    script = \\\"\\\"\\\"\\n    console.log(\\\"loadOSMD()\\\");\\n    function loadOSMD() { \\n        return new Promise(function(resolve, reject){\\n\\n            if (window.opensheetmusicdisplay) {\\n                console.log(\\\"already loaded\\\")\\n                return resolve(window.opensheetmusicdisplay)\\n            }\\n            console.log(\\\"loading osmd for the first time\\\")\\n            // OSMD script has a 'define' call which conflicts with requirejs\\n            var _define = window.define // save the define object \\n            window.define = undefined // now the loaded script will ignore requirejs\\n            var s = document.createElement( 'script' );\\n            s.setAttribute( 'src', \\\"https://cdn.jsdelivr.net/npm/opensheetmusicdisplay@0.3.1/build/opensheetmusicdisplay.min.js\\\" );\\n            //s.setAttribute( 'src', \\\"/custom/opensheetmusicdisplay.js\\\" );\\n            s.onload=function(){\\n                window.define = _define\\n                console.log(\\\"loaded OSMD for the first time\\\",opensheetmusicdisplay)\\n                resolve(opensheetmusicdisplay);\\n            };\\n            document.body.appendChild( s ); // browser will try to load the new script tag\\n        }) \\n    }\\n    loadOSMD().then((OSMD)=>{\\n        console.log(\\\"loaded OSMD\\\",OSMD)\\n        var div_id = \\\"{{DIV_ID}}\\\";\\n            console.log(div_id)\\n        window.openSheetMusicDisplay = new OSMD.OpenSheetMusicDisplay(div_id);\\n        openSheetMusicDisplay\\n            .load({{data}})\\n            .then(\\n              function() {\\n                console.log(\\\"rendering data\\\")\\n                openSheetMusicDisplay.render();\\n              }\\n            );\\n    })\\n    \\\"\\\"\\\".replace(\\n        \\\"{{DIV_ID}}\\\", DIV_ID\\n    ).replace(\\n        \\\"{{data}}\\\", json.dumps(xml)\\n    )\\n    display(Javascript(script))\\n    return DIV_ID\\n\\n\\ndef view_song(triplets, name=\\\"song\\\"):\\n    stream = triplets_to_stream(triplets)\\n    write_midi(stream, f\\\"{name}\\\")\\n\\n    FluidSynth('MuseScore_General.sf3').midi_to_audio(f\\\"{name}.mid\\\", f\\\"{name}.wav\\\")\\n    show_score(stream)\\n    return Audio(f\\\"{name}.wav\\\")\";\n",
       "                var nbb_formatted_code = \"import json, random, re\\n\\nfrom IPython.core.display import display, HTML, Javascript\\nfrom IPython.display import Audio\\n\\nfrom midi2audio import FluidSynth\\n\\n\\ndef show_score(score):\\n    xml = open(score.write(\\\"musicxml\\\")).read()\\n    show_xml(xml)\\n\\n\\ndef show_xml(xml):\\n    DIV_ID = \\\"OSMD-div-\\\" + str(random.randint(0, 1000000))\\n    # print(\\\"DIV_ID\\\", DIV_ID)\\n    msg = \\\"loading OpenSheetMusicDisplay\\\"\\n    msg = \\\"\\\"\\n    display(\\n        HTML('<div style=\\\"background: white\\\" id=\\\"' + DIV_ID + '\\\">{}</div>'.format(msg))\\n    )\\n\\n    # print('xml length:', len(xml))\\n\\n    script = \\\"\\\"\\\"\\n    console.log(\\\"loadOSMD()\\\");\\n    function loadOSMD() { \\n        return new Promise(function(resolve, reject){\\n\\n            if (window.opensheetmusicdisplay) {\\n                console.log(\\\"already loaded\\\")\\n                return resolve(window.opensheetmusicdisplay)\\n            }\\n            console.log(\\\"loading osmd for the first time\\\")\\n            // OSMD script has a 'define' call which conflicts with requirejs\\n            var _define = window.define // save the define object \\n            window.define = undefined // now the loaded script will ignore requirejs\\n            var s = document.createElement( 'script' );\\n            s.setAttribute( 'src', \\\"https://cdn.jsdelivr.net/npm/opensheetmusicdisplay@0.3.1/build/opensheetmusicdisplay.min.js\\\" );\\n            //s.setAttribute( 'src', \\\"/custom/opensheetmusicdisplay.js\\\" );\\n            s.onload=function(){\\n                window.define = _define\\n                console.log(\\\"loaded OSMD for the first time\\\",opensheetmusicdisplay)\\n                resolve(opensheetmusicdisplay);\\n            };\\n            document.body.appendChild( s ); // browser will try to load the new script tag\\n        }) \\n    }\\n    loadOSMD().then((OSMD)=>{\\n        console.log(\\\"loaded OSMD\\\",OSMD)\\n        var div_id = \\\"{{DIV_ID}}\\\";\\n            console.log(div_id)\\n        window.openSheetMusicDisplay = new OSMD.OpenSheetMusicDisplay(div_id);\\n        openSheetMusicDisplay\\n            .load({{data}})\\n            .then(\\n              function() {\\n                console.log(\\\"rendering data\\\")\\n                openSheetMusicDisplay.render();\\n              }\\n            );\\n    })\\n    \\\"\\\"\\\".replace(\\n        \\\"{{DIV_ID}}\\\", DIV_ID\\n    ).replace(\\n        \\\"{{data}}\\\", json.dumps(xml)\\n    )\\n    display(Javascript(script))\\n    return DIV_ID\\n\\n\\ndef view_song(triplets, name=\\\"song\\\"):\\n    stream = triplets_to_stream(triplets)\\n    write_midi(stream, f\\\"{name}\\\")\\n\\n    FluidSynth(\\\"MuseScore_General.sf3\\\").midi_to_audio(f\\\"{name}.mid\\\", f\\\"{name}.wav\\\")\\n    show_score(stream)\\n    return Audio(f\\\"{name}.wav\\\")\";\n",
       "                var nbb_cells = Jupyter.notebook.get_cells();\n",
       "                for (var i = 0; i < nbb_cells.length; ++i) {\n",
       "                    if (nbb_cells[i].input_prompt_number == nbb_cell_id) {\n",
       "                        if (nbb_cells[i].get_text() == nbb_unformatted_code) {\n",
       "                             nbb_cells[i].set_text(nbb_formatted_code);\n",
       "                        }\n",
       "                        break;\n",
       "                    }\n",
       "                }\n",
       "            }, 500);\n",
       "            "
      ],
      "text/plain": [
       "<IPython.core.display.Javascript object>"
      ]
     },
     "metadata": {},
     "output_type": "display_data"
    }
   ],
   "source": [
    "# skip\n",
    "\n",
    "%load_ext music21.ipython21.ipExtension\n",
    "\n",
    "import json, random\n",
    "\n",
    "from IPython.core.display import display, HTML, Javascript\n",
    "from IPython.display import Audio\n",
    "\n",
    "from midi2audio import FluidSynth\n",
    "\n",
    "\n",
    "def show_score(score):\n",
    "    xml = open(score.write(\"musicxml\")).read()\n",
    "    show_xml(xml)\n",
    "\n",
    "\n",
    "def show_xml(xml):\n",
    "    DIV_ID = \"OSMD-div-\" + str(random.randint(0, 1000000))\n",
    "    # print(\"DIV_ID\", DIV_ID)\n",
    "    msg = \"loading OpenSheetMusicDisplay\"\n",
    "    msg = \"\"\n",
    "    display(\n",
    "        HTML('<div style=\"background: white\" id=\"' + DIV_ID + '\">{}</div>'.format(msg))\n",
    "    )\n",
    "\n",
    "    # print('xml length:', len(xml))\n",
    "\n",
    "    script = \"\"\"\n",
    "    console.log(\"loadOSMD()\");\n",
    "    function loadOSMD() { \n",
    "        return new Promise(function(resolve, reject){\n",
    "\n",
    "            if (window.opensheetmusicdisplay) {\n",
    "                console.log(\"already loaded\")\n",
    "                return resolve(window.opensheetmusicdisplay)\n",
    "            }\n",
    "            console.log(\"loading osmd for the first time\")\n",
    "            // OSMD script has a 'define' call which conflicts with requirejs\n",
    "            var _define = window.define // save the define object \n",
    "            window.define = undefined // now the loaded script will ignore requirejs\n",
    "            var s = document.createElement( 'script' );\n",
    "            s.setAttribute( 'src', \"https://cdn.jsdelivr.net/npm/opensheetmusicdisplay@0.3.1/build/opensheetmusicdisplay.min.js\" );\n",
    "            //s.setAttribute( 'src', \"/custom/opensheetmusicdisplay.js\" );\n",
    "            s.onload=function(){\n",
    "                window.define = _define\n",
    "                console.log(\"loaded OSMD for the first time\",opensheetmusicdisplay)\n",
    "                resolve(opensheetmusicdisplay);\n",
    "            };\n",
    "            document.body.appendChild( s ); // browser will try to load the new script tag\n",
    "        }) \n",
    "    }\n",
    "    loadOSMD().then((OSMD)=>{\n",
    "        console.log(\"loaded OSMD\",OSMD)\n",
    "        var div_id = \"{{DIV_ID}}\";\n",
    "            console.log(div_id)\n",
    "        window.openSheetMusicDisplay = new OSMD.OpenSheetMusicDisplay(div_id);\n",
    "        openSheetMusicDisplay\n",
    "            .load({{data}})\n",
    "            .then(\n",
    "              function() {\n",
    "                console.log(\"rendering data\")\n",
    "                openSheetMusicDisplay.render();\n",
    "              }\n",
    "            );\n",
    "    })\n",
    "    \"\"\".replace(\n",
    "        \"{{DIV_ID}}\", DIV_ID\n",
    "    ).replace(\n",
    "        \"{{data}}\", json.dumps(xml)\n",
    "    )\n",
    "    display(Javascript(script))\n",
    "    return DIV_ID\n",
    "\n",
    "\n",
    "def view_song(triplets, name=\"song\"):\n",
    "    stream = triplets_to_stream(triplets)\n",
    "    write_midi(stream, f\"{name}\")\n",
    "\n",
    "    FluidSynth(\"MuseScore_General.sf3\").midi_to_audio(f\"{name}.mid\", f\"{name}.wav\")\n",
    "    show_score(stream)\n",
    "    return Audio(f\"{name}.wav\")"
   ]
  },
  {
   "cell_type": "code",
   "execution_count": null,
   "metadata": {},
   "outputs": [],
   "source": [
    "# skip\n",
    "triplets = row_to_triplets(df, 0)\n",
    "view_song(triplets)"
   ]
  }
 ],
 "metadata": {
  "kernelspec": {
   "display_name": "Python 3",
   "language": "python",
   "name": "python3"
  }
 },
 "nbformat": 4,
 "nbformat_minor": 2
}
