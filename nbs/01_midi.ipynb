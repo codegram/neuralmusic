{
 "cells": [
  {
   "cell_type": "code",
   "execution_count": null,
   "metadata": {},
   "outputs": [
    {
     "data": {
      "application/javascript": [
       "\n",
       "            setTimeout(function() {\n",
       "                var nbb_cell_id = 1;\n",
       "                var nbb_unformatted_code = \"%load_ext nb_black\";\n",
       "                var nbb_formatted_code = \"%load_ext nb_black\";\n",
       "                var nbb_cells = Jupyter.notebook.get_cells();\n",
       "                for (var i = 0; i < nbb_cells.length; ++i) {\n",
       "                    if (nbb_cells[i].input_prompt_number == nbb_cell_id) {\n",
       "                        if (nbb_cells[i].get_text() == nbb_unformatted_code) {\n",
       "                             nbb_cells[i].set_text(nbb_formatted_code);\n",
       "                        }\n",
       "                        break;\n",
       "                    }\n",
       "                }\n",
       "            }, 500);\n",
       "            "
      ],
      "text/plain": [
       "<IPython.core.display.Javascript object>"
      ]
     },
     "metadata": {},
     "output_type": "display_data"
    }
   ],
   "source": [
    "%load_ext nb_black"
   ]
  },
  {
   "cell_type": "code",
   "execution_count": null,
   "metadata": {},
   "outputs": [
    {
     "data": {
      "application/javascript": [
       "\n",
       "            setTimeout(function() {\n",
       "                var nbb_cell_id = 2;\n",
       "                var nbb_unformatted_code = \"# default_exp midi\";\n",
       "                var nbb_formatted_code = \"# default_exp midi\";\n",
       "                var nbb_cells = Jupyter.notebook.get_cells();\n",
       "                for (var i = 0; i < nbb_cells.length; ++i) {\n",
       "                    if (nbb_cells[i].input_prompt_number == nbb_cell_id) {\n",
       "                        if (nbb_cells[i].get_text() == nbb_unformatted_code) {\n",
       "                             nbb_cells[i].set_text(nbb_formatted_code);\n",
       "                        }\n",
       "                        break;\n",
       "                    }\n",
       "                }\n",
       "            }, 500);\n",
       "            "
      ],
      "text/plain": [
       "<IPython.core.display.Javascript object>"
      ]
     },
     "metadata": {},
     "output_type": "display_data"
    }
   ],
   "source": [
    "# default_exp midi"
   ]
  },
  {
   "cell_type": "code",
   "execution_count": null,
   "metadata": {},
   "outputs": [
    {
     "data": {
      "application/javascript": [
       "\n",
       "            setTimeout(function() {\n",
       "                var nbb_cell_id = 3;\n",
       "                var nbb_unformatted_code = \"# export\\nfrom typing import Optional, Tuple\\n\\nfrom music21 import converter, instrument, note, chord\\nfrom music21.midi import MidiException\\nimport pandas as pd\";\n",
       "                var nbb_formatted_code = \"# export\\nfrom typing import Optional, Tuple\\n\\nfrom music21 import converter, instrument, note, chord\\nfrom music21.midi import MidiException\\nimport pandas as pd\";\n",
       "                var nbb_cells = Jupyter.notebook.get_cells();\n",
       "                for (var i = 0; i < nbb_cells.length; ++i) {\n",
       "                    if (nbb_cells[i].input_prompt_number == nbb_cell_id) {\n",
       "                        if (nbb_cells[i].get_text() == nbb_unformatted_code) {\n",
       "                             nbb_cells[i].set_text(nbb_formatted_code);\n",
       "                        }\n",
       "                        break;\n",
       "                    }\n",
       "                }\n",
       "            }, 500);\n",
       "            "
      ],
      "text/plain": [
       "<IPython.core.display.Javascript object>"
      ]
     },
     "metadata": {},
     "output_type": "display_data"
    }
   ],
   "source": [
    "# export\n",
    "from typing import Optional, Tuple\n",
    "\n",
    "from music21 import converter, instrument, note, chord\n",
    "from music21.midi import MidiException\n",
    "import pandas as pd"
   ]
  },
  {
   "cell_type": "code",
   "execution_count": null,
   "metadata": {},
   "outputs": [
    {
     "data": {
      "application/javascript": [
       "\n",
       "            setTimeout(function() {\n",
       "                var nbb_cell_id = 4;\n",
       "                var nbb_unformatted_code = \"# test\\nfrom test import test_eq\\nfrom music21 import volume, duration\";\n",
       "                var nbb_formatted_code = \"# test\\nfrom test import test_eq\\nfrom music21 import volume, duration\";\n",
       "                var nbb_cells = Jupyter.notebook.get_cells();\n",
       "                for (var i = 0; i < nbb_cells.length; ++i) {\n",
       "                    if (nbb_cells[i].input_prompt_number == nbb_cell_id) {\n",
       "                        if (nbb_cells[i].get_text() == nbb_unformatted_code) {\n",
       "                             nbb_cells[i].set_text(nbb_formatted_code);\n",
       "                        }\n",
       "                        break;\n",
       "                    }\n",
       "                }\n",
       "            }, 500);\n",
       "            "
      ],
      "text/plain": [
       "<IPython.core.display.Javascript object>"
      ]
     },
     "metadata": {},
     "output_type": "display_data"
    }
   ],
   "source": [
    "# test\n",
    "from test import test_eq\n",
    "from music21 import volume, duration"
   ]
  },
  {
   "cell_type": "markdown",
   "metadata": {},
   "source": [
    "# Representing MIDI notes as triplets\n",
    "\n",
    "Although MIDI notes have a lot of information, we want to distill them into a triplet -- namely pitch, duration and velocity:"
   ]
  },
  {
   "cell_type": "code",
   "execution_count": null,
   "metadata": {},
   "outputs": [
    {
     "data": {
      "application/javascript": [
       "\n",
       "            setTimeout(function() {\n",
       "                var nbb_cell_id = 5;\n",
       "                var nbb_unformatted_code = \"# export\\n\\nPitch, Duration, Velocity = str, float, int\\nTriplet = Tuple[Pitch, Duration, Velocity]\";\n",
       "                var nbb_formatted_code = \"# export\\n\\nPitch, Duration, Velocity = str, float, int\\nTriplet = Tuple[Pitch, Duration, Velocity]\";\n",
       "                var nbb_cells = Jupyter.notebook.get_cells();\n",
       "                for (var i = 0; i < nbb_cells.length; ++i) {\n",
       "                    if (nbb_cells[i].input_prompt_number == nbb_cell_id) {\n",
       "                        if (nbb_cells[i].get_text() == nbb_unformatted_code) {\n",
       "                             nbb_cells[i].set_text(nbb_formatted_code);\n",
       "                        }\n",
       "                        break;\n",
       "                    }\n",
       "                }\n",
       "            }, 500);\n",
       "            "
      ],
      "text/plain": [
       "<IPython.core.display.Javascript object>"
      ]
     },
     "metadata": {},
     "output_type": "display_data"
    }
   ],
   "source": [
    "# export\n",
    "\n",
    "Pitch, Duration, Velocity = str, float, int\n",
    "Triplet = Tuple[Pitch, Duration, Velocity]"
   ]
  },
  {
   "cell_type": "markdown",
   "metadata": {},
   "source": [
    "First we'll create some functions to turn single notes, chords and rests into these Triplets."
   ]
  },
  {
   "cell_type": "code",
   "execution_count": null,
   "metadata": {},
   "outputs": [
    {
     "data": {
      "application/javascript": [
       "\n",
       "            setTimeout(function() {\n",
       "                var nbb_cell_id = 9;\n",
       "                var nbb_unformatted_code = \"# export\\n\\n\\ndef parse_single_note(note: note.Note) -> Triplet:\\n    return (str(note.pitch), float(note.duration.quarterLength), note.volume.velocity)\\n\\n\\ndef parse_chord(chord: chord.Chord) -> Triplet:\\n    return (\\n        \\\".\\\".join(str(n) for n in chord.normalOrder),\\n        float(chord.duration.quarterLength),\\n        chord.volume.velocity,\\n    )\\n\\ndef parse_rest(rest: note.Rest) -> Triplet:\\n    return (\\\"R\\\", float(rest.duration.quarterLength), 0)\";\n",
       "                var nbb_formatted_code = \"# export\\n\\n\\ndef parse_single_note(note: note.Note) -> Triplet:\\n    return (str(note.pitch), float(note.duration.quarterLength), note.volume.velocity)\\n\\n\\ndef parse_chord(chord: chord.Chord) -> Triplet:\\n    return (\\n        \\\".\\\".join(str(n) for n in chord.normalOrder),\\n        float(chord.duration.quarterLength),\\n        chord.volume.velocity,\\n    )\\n\\n\\ndef parse_rest(rest: note.Rest) -> Triplet:\\n    return (\\\"R\\\", float(rest.duration.quarterLength), 0)\";\n",
       "                var nbb_cells = Jupyter.notebook.get_cells();\n",
       "                for (var i = 0; i < nbb_cells.length; ++i) {\n",
       "                    if (nbb_cells[i].input_prompt_number == nbb_cell_id) {\n",
       "                        if (nbb_cells[i].get_text() == nbb_unformatted_code) {\n",
       "                             nbb_cells[i].set_text(nbb_formatted_code);\n",
       "                        }\n",
       "                        break;\n",
       "                    }\n",
       "                }\n",
       "            }, 500);\n",
       "            "
      ],
      "text/plain": [
       "<IPython.core.display.Javascript object>"
      ]
     },
     "metadata": {},
     "output_type": "display_data"
    }
   ],
   "source": [
    "# export\n",
    "\n",
    "\n",
    "def parse_single_note(note: note.Note) -> Triplet:\n",
    "    return (str(note.pitch), float(note.duration.quarterLength), note.volume.velocity)\n",
    "\n",
    "\n",
    "def parse_chord(chord: chord.Chord) -> Triplet:\n",
    "    return (\n",
    "        \".\".join(str(n) for n in chord.normalOrder),\n",
    "        float(chord.duration.quarterLength),\n",
    "        chord.volume.velocity,\n",
    "    )\n",
    "\n",
    "\n",
    "def parse_rest(rest: note.Rest) -> Triplet:\n",
    "    return (\"R\", float(rest.duration.quarterLength), 0)"
   ]
  },
  {
   "cell_type": "code",
   "execution_count": null,
   "metadata": {},
   "outputs": [
    {
     "data": {
      "application/javascript": [
       "\n",
       "            setTimeout(function() {\n",
       "                var nbb_cell_id = 10;\n",
       "                var nbb_unformatted_code = \"# test\\nquarter = duration.Duration(\\\"quarter\\\")\\n\\n\\ndef loud(n: note.Note, velocity=120) -> note.Note:\\n    n.volume = volume.Volume(velocity=velocity)\\n    return n\\n\\n\\ntest_eq((\\\"C3\\\", 1.0, 120), parse_single_note(loud(note.Note(\\\"C3\\\", duration=quarter))))\";\n",
       "                var nbb_formatted_code = \"# test\\nquarter = duration.Duration(\\\"quarter\\\")\\n\\n\\ndef loud(n: note.Note, velocity=120) -> note.Note:\\n    n.volume = volume.Volume(velocity=velocity)\\n    return n\\n\\n\\ntest_eq((\\\"C3\\\", 1.0, 120), parse_single_note(loud(note.Note(\\\"C3\\\", duration=quarter))))\";\n",
       "                var nbb_cells = Jupyter.notebook.get_cells();\n",
       "                for (var i = 0; i < nbb_cells.length; ++i) {\n",
       "                    if (nbb_cells[i].input_prompt_number == nbb_cell_id) {\n",
       "                        if (nbb_cells[i].get_text() == nbb_unformatted_code) {\n",
       "                             nbb_cells[i].set_text(nbb_formatted_code);\n",
       "                        }\n",
       "                        break;\n",
       "                    }\n",
       "                }\n",
       "            }, 500);\n",
       "            "
      ],
      "text/plain": [
       "<IPython.core.display.Javascript object>"
      ]
     },
     "metadata": {},
     "output_type": "display_data"
    }
   ],
   "source": [
    "# test\n",
    "quarter = duration.Duration(\"quarter\")\n",
    "\n",
    "\n",
    "def loud(n: note.Note, velocity=120) -> note.Note:\n",
    "    n.volume = volume.Volume(velocity=velocity)\n",
    "    return n\n",
    "\n",
    "\n",
    "test_eq((\"C3\", 1.0, 120), parse_single_note(loud(note.Note(\"C3\", duration=quarter))))"
   ]
  },
  {
   "cell_type": "code",
   "execution_count": null,
   "metadata": {},
   "outputs": [
    {
     "data": {
      "application/javascript": [
       "\n",
       "            setTimeout(function() {\n",
       "                var nbb_cell_id = 11;\n",
       "                var nbb_unformatted_code = \"# export\\ndef parse_midi_file(file: str) -> (Optional[pd.DataFrame], int):\\n    \\\"\\\"\\\"\\n    Attempts to parse a midi file into a Dataframe. Returns a Dataframe or None, together with the number of notes processed.\\n    \\\"\\\"\\\"\\n    try:\\n        midi = converter.parse(file)\\n        notes_to_parse = None\\n        parts = instrument.partitionByInstrument(midi)\\n        notes = []\\n        if parts:  # file has instrument parts\\n            notes_to_parse = parts.parts[0].recurse()\\n        else:  # file has notes in a flat structure\\n            notes_to_parse = midi.flat.notes\\n        for element in notes_to_parse:\\n            if element.__class__ == note.Note:\\n                notes.append(parse_single_note(element))\\n            elif element.__class__ == chord.Chord:\\n                notes.append(parse_chord(element))\\n            elif element.__class__ == note.Rest:\\n                notes.append(parse_rest(element))\\n\\n        df = pd.DataFrame.from_dict(\\n            {\\n                \\\"pitches\\\": [[[pitch for (pitch, duration, velocity) in notes]]],\\n                \\\"durations\\\": [[[duration for (pitch, duration, velocity) in notes]]],\\n                \\\"velocities\\\": [[[velocity for (pitch, duration, velocity) in notes]]],\\n            }\\n        )\\n        return (df, len(notes))\\n    except MidiException:\\n        return (None, 0)\\n    except IndexError:\\n        return (None, 0)\";\n",
       "                var nbb_formatted_code = \"# export\\ndef parse_midi_file(file: str) -> (Optional[pd.DataFrame], int):\\n    \\\"\\\"\\\"\\n    Attempts to parse a midi file into a Dataframe. Returns a Dataframe or None, together with the number of notes processed.\\n    \\\"\\\"\\\"\\n    try:\\n        midi = converter.parse(file)\\n        notes_to_parse = None\\n        parts = instrument.partitionByInstrument(midi)\\n        notes = []\\n        if parts:  # file has instrument parts\\n            notes_to_parse = parts.parts[0].recurse()\\n        else:  # file has notes in a flat structure\\n            notes_to_parse = midi.flat.notes\\n        for element in notes_to_parse:\\n            if element.__class__ == note.Note:\\n                notes.append(parse_single_note(element))\\n            elif element.__class__ == chord.Chord:\\n                notes.append(parse_chord(element))\\n            elif element.__class__ == note.Rest:\\n                notes.append(parse_rest(element))\\n\\n        df = pd.DataFrame.from_dict(\\n            {\\n                \\\"pitches\\\": [[[pitch for (pitch, duration, velocity) in notes]]],\\n                \\\"durations\\\": [[[duration for (pitch, duration, velocity) in notes]]],\\n                \\\"velocities\\\": [[[velocity for (pitch, duration, velocity) in notes]]],\\n            }\\n        )\\n        return (df, len(notes))\\n    except MidiException:\\n        return (None, 0)\\n    except IndexError:\\n        return (None, 0)\";\n",
       "                var nbb_cells = Jupyter.notebook.get_cells();\n",
       "                for (var i = 0; i < nbb_cells.length; ++i) {\n",
       "                    if (nbb_cells[i].input_prompt_number == nbb_cell_id) {\n",
       "                        if (nbb_cells[i].get_text() == nbb_unformatted_code) {\n",
       "                             nbb_cells[i].set_text(nbb_formatted_code);\n",
       "                        }\n",
       "                        break;\n",
       "                    }\n",
       "                }\n",
       "            }, 500);\n",
       "            "
      ],
      "text/plain": [
       "<IPython.core.display.Javascript object>"
      ]
     },
     "metadata": {},
     "output_type": "display_data"
    }
   ],
   "source": [
    "# export\n",
    "def parse_midi_file(file: str) -> (Optional[pd.DataFrame], int):\n",
    "    \"\"\"\n",
    "    Attempts to parse a midi file into a Dataframe. Returns a Dataframe or None, together with the number of notes processed.\n",
    "    \"\"\"\n",
    "    try:\n",
    "        midi = converter.parse(file)\n",
    "        notes_to_parse = None\n",
    "        parts = instrument.partitionByInstrument(midi)\n",
    "        notes = []\n",
    "        if parts:  # file has instrument parts\n",
    "            notes_to_parse = parts.parts[0].recurse()\n",
    "        else:  # file has notes in a flat structure\n",
    "            notes_to_parse = midi.flat.notes\n",
    "        for element in notes_to_parse:\n",
    "            if element.__class__ == note.Note:\n",
    "                notes.append(parse_single_note(element))\n",
    "            elif element.__class__ == chord.Chord:\n",
    "                notes.append(parse_chord(element))\n",
    "            elif element.__class__ == note.Rest:\n",
    "                notes.append(parse_rest(element))\n",
    "\n",
    "        df = pd.DataFrame.from_dict(\n",
    "            {\n",
    "                \"pitches\": [[[pitch for (pitch, duration, velocity) in notes]]],\n",
    "                \"durations\": [[[duration for (pitch, duration, velocity) in notes]]],\n",
    "                \"velocities\": [[[velocity for (pitch, duration, velocity) in notes]]],\n",
    "            }\n",
    "        )\n",
    "        return (df, len(notes))\n",
    "    except MidiException:\n",
    "        return (None, 0)\n",
    "    except IndexError:\n",
    "        return (None, 0)\n"
   ]
  }
 ],
 "metadata": {
  "kernelspec": {
   "display_name": "Python 3",
   "language": "python",
   "name": "python3"
  }
 },
 "nbformat": 4,
 "nbformat_minor": 2
}
