{
 "cells": [
  {
   "cell_type": "code",
   "execution_count": null,
   "metadata": {},
   "outputs": [
    {
     "data": {
      "application/javascript": [
       "\n",
       "            setTimeout(function() {\n",
       "                var nbb_cell_id = 1;\n",
       "                var nbb_unformatted_code = \"# hide\\n%load_ext nb_black\";\n",
       "                var nbb_formatted_code = \"# hide\\n%load_ext nb_black\";\n",
       "                var nbb_cells = Jupyter.notebook.get_cells();\n",
       "                for (var i = 0; i < nbb_cells.length; ++i) {\n",
       "                    if (nbb_cells[i].input_prompt_number == nbb_cell_id) {\n",
       "                        if (nbb_cells[i].get_text() == nbb_unformatted_code) {\n",
       "                             nbb_cells[i].set_text(nbb_formatted_code);\n",
       "                        }\n",
       "                        break;\n",
       "                    }\n",
       "                }\n",
       "            }, 500);\n",
       "            "
      ],
      "text/plain": [
       "<IPython.core.display.Javascript object>"
      ]
     },
     "metadata": {},
     "output_type": "display_data"
    }
   ],
   "source": [
    "# hide\n",
    "%load_ext nb_black"
   ]
  },
  {
   "cell_type": "code",
   "execution_count": null,
   "metadata": {},
   "outputs": [
    {
     "data": {
      "application/javascript": [
       "\n",
       "            setTimeout(function() {\n",
       "                var nbb_cell_id = 2;\n",
       "                var nbb_unformatted_code = \"# default_exp training\";\n",
       "                var nbb_formatted_code = \"# default_exp training\";\n",
       "                var nbb_cells = Jupyter.notebook.get_cells();\n",
       "                for (var i = 0; i < nbb_cells.length; ++i) {\n",
       "                    if (nbb_cells[i].input_prompt_number == nbb_cell_id) {\n",
       "                        if (nbb_cells[i].get_text() == nbb_unformatted_code) {\n",
       "                             nbb_cells[i].set_text(nbb_formatted_code);\n",
       "                        }\n",
       "                        break;\n",
       "                    }\n",
       "                }\n",
       "            }, 500);\n",
       "            "
      ],
      "text/plain": [
       "<IPython.core.display.Javascript object>"
      ]
     },
     "metadata": {},
     "output_type": "display_data"
    }
   ],
   "source": [
    "# default_exp training"
   ]
  },
  {
   "cell_type": "code",
   "execution_count": null,
   "metadata": {},
   "outputs": [
    {
     "data": {
      "application/javascript": [
       "\n",
       "            setTimeout(function() {\n",
       "                var nbb_cell_id = 13;\n",
       "                var nbb_unformatted_code = \"# export\\nfrom torch import nn\\nfrom fastai2.basics import (\\n    Recorder,\\n    CrossEntropyLossFlat,\\n    flatten_check,\\n    accuracy,\\n    Callback,\\n    DataBunch,\\n    Learner,\\n)\\nfrom fastai2.callback.schedule import *\\nfrom fastai2.callback.progress import *\\nfrom fastai2.callback.fp16 import *\";\n",
       "                var nbb_formatted_code = \"# export\\nfrom torch import nn\\nfrom fastai2.basics import (\\n    Recorder,\\n    CrossEntropyLossFlat,\\n    flatten_check,\\n    accuracy,\\n    Callback,\\n    DataBunch,\\n    Learner,\\n)\\nfrom fastai2.callback.schedule import *\\nfrom fastai2.callback.progress import *\\nfrom fastai2.callback.fp16 import *\";\n",
       "                var nbb_cells = Jupyter.notebook.get_cells();\n",
       "                for (var i = 0; i < nbb_cells.length; ++i) {\n",
       "                    if (nbb_cells[i].input_prompt_number == nbb_cell_id) {\n",
       "                        if (nbb_cells[i].get_text() == nbb_unformatted_code) {\n",
       "                             nbb_cells[i].set_text(nbb_formatted_code);\n",
       "                        }\n",
       "                        break;\n",
       "                    }\n",
       "                }\n",
       "            }, 500);\n",
       "            "
      ],
      "text/plain": [
       "<IPython.core.display.Javascript object>"
      ]
     },
     "metadata": {},
     "output_type": "display_data"
    }
   ],
   "source": [
    "# export\n",
    "from torch import nn\n",
    "from fastai2.basics import (\n",
    "    Recorder,\n",
    "    CrossEntropyLossFlat,\n",
    "    flatten_check,\n",
    "    accuracy,\n",
    "    Callback,\n",
    "    DataBunch,\n",
    "    Learner,\n",
    ")\n",
    "from fastai2.callback.schedule import *\n",
    "from fastai2.callback.progress import *\n",
    "from fastai2.callback.fp16 import *"
   ]
  },
  {
   "cell_type": "markdown",
   "metadata": {},
   "source": [
    "# Training\n",
    "\n",
    "> Training the model"
   ]
  },
  {
   "cell_type": "code",
   "execution_count": null,
   "metadata": {},
   "outputs": [
    {
     "data": {
      "application/javascript": [
       "\n",
       "            setTimeout(function() {\n",
       "                var nbb_cell_id = 5;\n",
       "                var nbb_unformatted_code = \"# export\\nclass DualCrossEntropyLossFlat(CrossEntropyLossFlat):\\n    def __call__(self, inp, targ, **kwargs):\\n        pitches_targ, durations_targ = targ.transpose(0, 1)\\n        pitches_targ = pitches_targ.transpose(0,1)[-1]\\n        durations_targ = durations_targ.transpose(0,1)[-1]\\n        pitches_input = inp[0].transpose(0,1)[-1]\\n        durations_input = inp[1].transpose(0,1)[-1]\\n        pitches_loss = super().__call__(pitches_input, pitches_targ, **kwargs)\\n        durations_loss = super().__call__(durations_input, durations_targ, **kwargs)\\n        return (pitches_loss + durations_loss) / 2\\n    \\ndef pitch_accuracy(inp, targ):\\n    targ_pitches, targ_durations = targ.transpose(0,1)\\n    return accuracy(inp[0], targ_pitches)\\n\\ndef rhythm_accuracy(inp, targ):\\n    targ_pitches, targ_durations = targ.transpose(0,1)\\n    return accuracy(inp[1], targ_durations)\\n\\ndef avg_accuracy(inp, targ):\\n    return (pitch_accuracy(inp, targ) + rhythm_accuracy(inp, targ)) / 2\\n\\nclass ResetTrainer(Callback):\\n    def begin_train(self):    self.model.reset()\\n    def begin_validate(self): self.model.reset()\";\n",
       "                var nbb_formatted_code = \"# export\\nclass DualCrossEntropyLossFlat(CrossEntropyLossFlat):\\n    def __call__(self, inp, targ, **kwargs):\\n        pitches_targ, durations_targ = targ.transpose(0, 1)\\n        pitches_targ = pitches_targ.transpose(0, 1)[-1]\\n        durations_targ = durations_targ.transpose(0, 1)[-1]\\n        pitches_input = inp[0].transpose(0, 1)[-1]\\n        durations_input = inp[1].transpose(0, 1)[-1]\\n        pitches_loss = super().__call__(pitches_input, pitches_targ, **kwargs)\\n        durations_loss = super().__call__(durations_input, durations_targ, **kwargs)\\n        return (pitches_loss + durations_loss) / 2\\n\\n\\ndef pitch_accuracy(inp, targ):\\n    targ_pitches, targ_durations = targ.transpose(0, 1)\\n    return accuracy(inp[0], targ_pitches)\\n\\n\\ndef rhythm_accuracy(inp, targ):\\n    targ_pitches, targ_durations = targ.transpose(0, 1)\\n    return accuracy(inp[1], targ_durations)\\n\\n\\ndef avg_accuracy(inp, targ):\\n    return (pitch_accuracy(inp, targ) + rhythm_accuracy(inp, targ)) / 2\\n\\n\\nclass ResetTrainer(Callback):\\n    def begin_train(self):\\n        self.model.reset()\\n\\n    def begin_validate(self):\\n        self.model.reset()\";\n",
       "                var nbb_cells = Jupyter.notebook.get_cells();\n",
       "                for (var i = 0; i < nbb_cells.length; ++i) {\n",
       "                    if (nbb_cells[i].input_prompt_number == nbb_cell_id) {\n",
       "                        if (nbb_cells[i].get_text() == nbb_unformatted_code) {\n",
       "                             nbb_cells[i].set_text(nbb_formatted_code);\n",
       "                        }\n",
       "                        break;\n",
       "                    }\n",
       "                }\n",
       "            }, 500);\n",
       "            "
      ],
      "text/plain": [
       "<IPython.core.display.Javascript object>"
      ]
     },
     "metadata": {},
     "output_type": "display_data"
    }
   ],
   "source": [
    "# export\n",
    "class DualCrossEntropyLossFlat(CrossEntropyLossFlat):\n",
    "    def __call__(self, inp, targ, **kwargs):\n",
    "        pitches_targ, durations_targ = targ.transpose(0, 1)\n",
    "        pitches_targ = pitches_targ.transpose(0, 1)[-1]\n",
    "        durations_targ = durations_targ.transpose(0, 1)[-1]\n",
    "        pitches_input = inp[0].transpose(0, 1)[-1]\n",
    "        durations_input = inp[1].transpose(0, 1)[-1]\n",
    "        pitches_loss = super().__call__(pitches_input, pitches_targ, **kwargs)\n",
    "        durations_loss = super().__call__(durations_input, durations_targ, **kwargs)\n",
    "        return (pitches_loss + durations_loss) / 2\n",
    "\n",
    "\n",
    "def pitch_accuracy(inp, targ):\n",
    "    targ_pitches, targ_durations = targ.transpose(0, 1)\n",
    "    return accuracy(inp[0], targ_pitches)\n",
    "\n",
    "\n",
    "def rhythm_accuracy(inp, targ):\n",
    "    targ_pitches, targ_durations = targ.transpose(0, 1)\n",
    "    return accuracy(inp[1], targ_durations)\n",
    "\n",
    "\n",
    "def avg_accuracy(inp, targ):\n",
    "    return (pitch_accuracy(inp, targ) + rhythm_accuracy(inp, targ)) / 2\n",
    "\n",
    "\n",
    "class ResetTrainer(Callback):\n",
    "    def begin_train(self):\n",
    "        self.model.reset()\n",
    "\n",
    "    def begin_validate(self):\n",
    "        self.model.reset()"
   ]
  },
  {
   "cell_type": "code",
   "execution_count": null,
   "metadata": {},
   "outputs": [
    {
     "data": {
      "application/javascript": [
       "\n",
       "            setTimeout(function() {\n",
       "                var nbb_cell_id = 14;\n",
       "                var nbb_unformatted_code = \"# export\\n\\n\\ndef get_learner(db: DataBunch, model: nn.Module) -> Learner:\\n    \\\"\\\"\\\"\\n    Constructs a learner from a databunch, using DualCrossEntroyLossFlat as a loss function.\\n    \\\"\\\"\\\"\\n    return Learner(\\n        db,\\n        model,\\n        loss_func=DualCrossEntropyLossFlat(),\\n        cb_funcs=ResetTrainer,\\n        metrics=[pitch_accuracy, rhythm_accuracy, avg_accuracy],\\n    )\";\n",
       "                var nbb_formatted_code = \"# export\\n\\n\\ndef get_learner(db: DataBunch, model: nn.Module) -> Learner:\\n    \\\"\\\"\\\"\\n    Constructs a learner from a databunch, using DualCrossEntroyLossFlat as a loss function.\\n    \\\"\\\"\\\"\\n    return Learner(\\n        db,\\n        model,\\n        loss_func=DualCrossEntropyLossFlat(),\\n        cb_funcs=ResetTrainer,\\n        metrics=[pitch_accuracy, rhythm_accuracy, avg_accuracy],\\n    )\";\n",
       "                var nbb_cells = Jupyter.notebook.get_cells();\n",
       "                for (var i = 0; i < nbb_cells.length; ++i) {\n",
       "                    if (nbb_cells[i].input_prompt_number == nbb_cell_id) {\n",
       "                        if (nbb_cells[i].get_text() == nbb_unformatted_code) {\n",
       "                             nbb_cells[i].set_text(nbb_formatted_code);\n",
       "                        }\n",
       "                        break;\n",
       "                    }\n",
       "                }\n",
       "            }, 500);\n",
       "            "
      ],
      "text/plain": [
       "<IPython.core.display.Javascript object>"
      ]
     },
     "metadata": {},
     "output_type": "display_data"
    }
   ],
   "source": [
    "# export\n",
    "\n",
    "\n",
    "def get_learner(db: DataBunch, model: nn.Module) -> Learner:\n",
    "    \"\"\"\n",
    "    Constructs a learner from a databunch, using DualCrossEntroyLossFlat as a loss function.\n",
    "    \"\"\"\n",
    "    return Learner(\n",
    "        db,\n",
    "        model,\n",
    "        loss_func=DualCrossEntropyLossFlat(),\n",
    "        cb_funcs=ResetTrainer,\n",
    "        metrics=[pitch_accuracy, rhythm_accuracy, avg_accuracy],\n",
    "    )"
   ]
  }
 ],
 "metadata": {
  "kernelspec": {
   "display_name": "Python 3",
   "language": "python",
   "name": "python3"
  }
 },
 "nbformat": 4,
 "nbformat_minor": 2
}
