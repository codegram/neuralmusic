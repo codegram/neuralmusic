{
 "cells": [
  {
   "cell_type": "code",
   "execution_count": null,
   "metadata": {},
   "outputs": [
    {
     "data": {
      "application/javascript": [
       "\n",
       "            setTimeout(function() {\n",
       "                var nbb_cell_id = 1;\n",
       "                var nbb_unformatted_code = \"# hide\\n%load_ext nb_black\";\n",
       "                var nbb_formatted_code = \"# hide\\n%load_ext nb_black\";\n",
       "                var nbb_cells = Jupyter.notebook.get_cells();\n",
       "                for (var i = 0; i < nbb_cells.length; ++i) {\n",
       "                    if (nbb_cells[i].input_prompt_number == nbb_cell_id) {\n",
       "                        if (nbb_cells[i].get_text() == nbb_unformatted_code) {\n",
       "                             nbb_cells[i].set_text(nbb_formatted_code);\n",
       "                        }\n",
       "                        break;\n",
       "                    }\n",
       "                }\n",
       "            }, 500);\n",
       "            "
      ],
      "text/plain": [
       "<IPython.core.display.Javascript object>"
      ]
     },
     "metadata": {},
     "output_type": "display_data"
    }
   ],
   "source": [
    "# hide\n",
    "%load_ext nb_black"
   ]
  },
  {
   "cell_type": "code",
   "execution_count": null,
   "metadata": {},
   "outputs": [
    {
     "ename": "NameError",
     "evalue": "name 'basic_repr' is not defined",
     "output_type": "error",
     "traceback": [
      "\u001b[0;31m---------------------------------------------------------------------------\u001b[0m",
      "\u001b[0;31mNameError\u001b[0m                                 Traceback (most recent call last)",
      "\u001b[0;32m<ipython-input-5-f6c12038b72e>\u001b[0m in \u001b[0;36m<module>\u001b[0;34m\u001b[0m\n\u001b[1;32m      1\u001b[0m \u001b[0;31m# export\u001b[0m\u001b[0;34m\u001b[0m\u001b[0;34m\u001b[0m\u001b[0;34m\u001b[0m\u001b[0m\n\u001b[1;32m      2\u001b[0m \u001b[0;32mfrom\u001b[0m \u001b[0mtorch\u001b[0m \u001b[0;32mimport\u001b[0m \u001b[0mnn\u001b[0m\u001b[0;34m\u001b[0m\u001b[0;34m\u001b[0m\u001b[0m\n\u001b[0;32m----> 3\u001b[0;31m \u001b[0;32mfrom\u001b[0m \u001b[0mfastai2\u001b[0m\u001b[0;34m.\u001b[0m\u001b[0mbasics\u001b[0m \u001b[0;32mimport\u001b[0m \u001b[0mCrossEntropyLossFlat\u001b[0m\u001b[0;34m,\u001b[0m \u001b[0maccuracy\u001b[0m\u001b[0;34m,\u001b[0m \u001b[0mCallback\u001b[0m\u001b[0;34m,\u001b[0m \u001b[0mDataBunch\u001b[0m\u001b[0;34m,\u001b[0m \u001b[0mLearner\u001b[0m\u001b[0;34m\u001b[0m\u001b[0;34m\u001b[0m\u001b[0m\n\u001b[0m\u001b[1;32m      4\u001b[0m \u001b[0;32mfrom\u001b[0m \u001b[0mfastai2\u001b[0m\u001b[0;34m.\u001b[0m\u001b[0mcallback\u001b[0m\u001b[0;34m.\u001b[0m\u001b[0mschedule\u001b[0m \u001b[0;32mimport\u001b[0m \u001b[0;34m*\u001b[0m\u001b[0;34m\u001b[0m\u001b[0;34m\u001b[0m\u001b[0m\n\u001b[1;32m      5\u001b[0m \u001b[0;32mfrom\u001b[0m \u001b[0mfastai2\u001b[0m\u001b[0;34m.\u001b[0m\u001b[0mcallback\u001b[0m\u001b[0;34m.\u001b[0m\u001b[0mprogress\u001b[0m \u001b[0;32mimport\u001b[0m \u001b[0;34m*\u001b[0m\u001b[0;34m\u001b[0m\u001b[0;34m\u001b[0m\u001b[0m\n",
      "\u001b[0;32m~/Code/codegram/neuralmusic/env/lib/python3.7/site-packages/fastai2/basics.py\u001b[0m in \u001b[0;36m<module>\u001b[0;34m\u001b[0m\n\u001b[0;32m----> 1\u001b[0;31m \u001b[0;32mfrom\u001b[0m \u001b[0;34m.\u001b[0m\u001b[0mdata\u001b[0m\u001b[0;34m.\u001b[0m\u001b[0mall\u001b[0m \u001b[0;32mimport\u001b[0m \u001b[0;34m*\u001b[0m\u001b[0;34m\u001b[0m\u001b[0;34m\u001b[0m\u001b[0m\n\u001b[0m\u001b[1;32m      2\u001b[0m \u001b[0;32mfrom\u001b[0m \u001b[0;34m.\u001b[0m\u001b[0moptimizer\u001b[0m \u001b[0;32mimport\u001b[0m \u001b[0;34m*\u001b[0m\u001b[0;34m\u001b[0m\u001b[0;34m\u001b[0m\u001b[0m\n\u001b[1;32m      3\u001b[0m \u001b[0;32mfrom\u001b[0m \u001b[0;34m.\u001b[0m\u001b[0mlearner\u001b[0m \u001b[0;32mimport\u001b[0m \u001b[0;34m*\u001b[0m\u001b[0;34m\u001b[0m\u001b[0;34m\u001b[0m\u001b[0m\n\u001b[1;32m      4\u001b[0m \u001b[0;32mfrom\u001b[0m \u001b[0;34m.\u001b[0m\u001b[0mmetrics\u001b[0m \u001b[0;32mimport\u001b[0m \u001b[0;34m*\u001b[0m\u001b[0;34m\u001b[0m\u001b[0;34m\u001b[0m\u001b[0m\n\u001b[1;32m      5\u001b[0m \u001b[0;32mfrom\u001b[0m \u001b[0;34m.\u001b[0m\u001b[0minterpret\u001b[0m \u001b[0;32mimport\u001b[0m \u001b[0;34m*\u001b[0m\u001b[0;34m\u001b[0m\u001b[0;34m\u001b[0m\u001b[0m\n",
      "\u001b[0;32m~/Code/codegram/neuralmusic/env/lib/python3.7/site-packages/fastai2/data/all.py\u001b[0m in \u001b[0;36m<module>\u001b[0;34m\u001b[0m\n\u001b[0;32m----> 1\u001b[0;31m \u001b[0;32mfrom\u001b[0m \u001b[0;34m.\u001b[0m\u001b[0;34m.\u001b[0m\u001b[0mtorch_basics\u001b[0m \u001b[0;32mimport\u001b[0m \u001b[0;34m*\u001b[0m\u001b[0;34m\u001b[0m\u001b[0;34m\u001b[0m\u001b[0m\n\u001b[0m\u001b[1;32m      2\u001b[0m \u001b[0;32mfrom\u001b[0m \u001b[0;34m.\u001b[0m\u001b[0mcore\u001b[0m \u001b[0;32mimport\u001b[0m \u001b[0;34m*\u001b[0m\u001b[0;34m\u001b[0m\u001b[0;34m\u001b[0m\u001b[0m\n\u001b[1;32m      3\u001b[0m \u001b[0;32mfrom\u001b[0m \u001b[0;34m.\u001b[0m\u001b[0mload\u001b[0m \u001b[0;32mimport\u001b[0m \u001b[0;34m*\u001b[0m\u001b[0;34m\u001b[0m\u001b[0;34m\u001b[0m\u001b[0m\n\u001b[1;32m      4\u001b[0m \u001b[0;32mfrom\u001b[0m \u001b[0;34m.\u001b[0m\u001b[0mexternal\u001b[0m \u001b[0;32mimport\u001b[0m \u001b[0;34m*\u001b[0m\u001b[0;34m\u001b[0m\u001b[0;34m\u001b[0m\u001b[0m\n\u001b[1;32m      5\u001b[0m \u001b[0;32mfrom\u001b[0m \u001b[0;34m.\u001b[0m\u001b[0mtransforms\u001b[0m \u001b[0;32mimport\u001b[0m \u001b[0;34m*\u001b[0m\u001b[0;34m\u001b[0m\u001b[0;34m\u001b[0m\u001b[0m\n",
      "\u001b[0;32m~/Code/codegram/neuralmusic/env/lib/python3.7/site-packages/fastai2/torch_basics.py\u001b[0m in \u001b[0;36m<module>\u001b[0;34m\u001b[0m\n\u001b[1;32m      3\u001b[0m \u001b[0;32mfrom\u001b[0m \u001b[0;34m.\u001b[0m\u001b[0mtorch_imports\u001b[0m \u001b[0;32mimport\u001b[0m \u001b[0;34m*\u001b[0m\u001b[0;34m\u001b[0m\u001b[0;34m\u001b[0m\u001b[0m\n\u001b[1;32m      4\u001b[0m \u001b[0;32mfrom\u001b[0m \u001b[0;34m.\u001b[0m\u001b[0mtorch_core\u001b[0m \u001b[0;32mimport\u001b[0m \u001b[0;34m*\u001b[0m\u001b[0;34m\u001b[0m\u001b[0;34m\u001b[0m\u001b[0m\n\u001b[0;32m----> 5\u001b[0;31m \u001b[0;32mfrom\u001b[0m \u001b[0;34m.\u001b[0m\u001b[0mlayers\u001b[0m \u001b[0;32mimport\u001b[0m \u001b[0;34m*\u001b[0m\u001b[0;34m\u001b[0m\u001b[0;34m\u001b[0m\u001b[0m\n\u001b[0m",
      "\u001b[0;32m~/Code/codegram/neuralmusic/env/lib/python3.7/site-packages/fastai2/layers.py\u001b[0m in \u001b[0;36m<module>\u001b[0;34m\u001b[0m\n\u001b[1;32m     42\u001b[0m \u001b[0;34m\u001b[0m\u001b[0m\n\u001b[1;32m     43\u001b[0m \u001b[0;31m#Cell\u001b[0m\u001b[0;34m\u001b[0m\u001b[0;34m\u001b[0m\u001b[0;34m\u001b[0m\u001b[0m\n\u001b[0;32m---> 44\u001b[0;31m \u001b[0;34m@\u001b[0m\u001b[0mmodule\u001b[0m\u001b[0;34m(\u001b[0m\u001b[0;34m)\u001b[0m\u001b[0;34m\u001b[0m\u001b[0;34m\u001b[0m\u001b[0m\n\u001b[0m\u001b[1;32m     45\u001b[0m \u001b[0;32mdef\u001b[0m \u001b[0mIdentity\u001b[0m\u001b[0;34m(\u001b[0m\u001b[0mself\u001b[0m\u001b[0;34m,\u001b[0m \u001b[0mx\u001b[0m\u001b[0;34m)\u001b[0m\u001b[0;34m:\u001b[0m\u001b[0;34m\u001b[0m\u001b[0;34m\u001b[0m\u001b[0m\n\u001b[1;32m     46\u001b[0m     \u001b[0;34m\"Do nothing at all\"\u001b[0m\u001b[0;34m\u001b[0m\u001b[0;34m\u001b[0m\u001b[0m\n",
      "\u001b[0;32m~/Code/codegram/neuralmusic/env/lib/python3.7/site-packages/fastai2/layers.py\u001b[0m in \u001b[0;36m_f\u001b[0;34m(f)\u001b[0m\n\u001b[1;32m     27\u001b[0m \u001b[0;34m\u001b[0m\u001b[0m\n\u001b[1;32m     28\u001b[0m     \u001b[0;32mdef\u001b[0m \u001b[0m_f\u001b[0m\u001b[0;34m(\u001b[0m\u001b[0mf\u001b[0m\u001b[0;34m)\u001b[0m\u001b[0;34m:\u001b[0m\u001b[0;34m\u001b[0m\u001b[0;34m\u001b[0m\u001b[0m\n\u001b[0;32m---> 29\u001b[0;31m         \u001b[0;32mclass\u001b[0m \u001b[0mc\u001b[0m\u001b[0;34m(\u001b[0m\u001b[0mnn\u001b[0m\u001b[0;34m.\u001b[0m\u001b[0mModule\u001b[0m\u001b[0;34m)\u001b[0m\u001b[0;34m:\u001b[0m\u001b[0;34m\u001b[0m\u001b[0;34m\u001b[0m\u001b[0m\n\u001b[0m\u001b[1;32m     30\u001b[0m             \u001b[0;32mdef\u001b[0m \u001b[0m__init__\u001b[0m\u001b[0;34m(\u001b[0m\u001b[0mself\u001b[0m\u001b[0;34m,\u001b[0m \u001b[0;34m*\u001b[0m\u001b[0margs\u001b[0m\u001b[0;34m,\u001b[0m \u001b[0;34m**\u001b[0m\u001b[0mkwargs\u001b[0m\u001b[0;34m)\u001b[0m\u001b[0;34m:\u001b[0m\u001b[0;34m\u001b[0m\u001b[0;34m\u001b[0m\u001b[0m\n\u001b[1;32m     31\u001b[0m                 \u001b[0msuper\u001b[0m\u001b[0;34m(\u001b[0m\u001b[0;34m)\u001b[0m\u001b[0;34m.\u001b[0m\u001b[0m__init__\u001b[0m\u001b[0;34m(\u001b[0m\u001b[0;34m)\u001b[0m\u001b[0;34m\u001b[0m\u001b[0;34m\u001b[0m\u001b[0m\n",
      "\u001b[0;32m~/Code/codegram/neuralmusic/env/lib/python3.7/site-packages/fastai2/layers.py\u001b[0m in \u001b[0;36mc\u001b[0;34m()\u001b[0m\n\u001b[1;32m     33\u001b[0m                 \u001b[0mkwargs\u001b[0m \u001b[0;34m=\u001b[0m \u001b[0mmerge\u001b[0m\u001b[0;34m(\u001b[0m\u001b[0mdefaults\u001b[0m\u001b[0;34m,\u001b[0m\u001b[0mkwargs\u001b[0m\u001b[0;34m)\u001b[0m\u001b[0;34m\u001b[0m\u001b[0;34m\u001b[0m\u001b[0m\n\u001b[1;32m     34\u001b[0m                 \u001b[0;32mfor\u001b[0m \u001b[0mk\u001b[0m\u001b[0;34m,\u001b[0m\u001b[0mv\u001b[0m \u001b[0;32min\u001b[0m \u001b[0mkwargs\u001b[0m\u001b[0;34m.\u001b[0m\u001b[0mitems\u001b[0m\u001b[0;34m(\u001b[0m\u001b[0;34m)\u001b[0m\u001b[0;34m:\u001b[0m \u001b[0msetattr\u001b[0m\u001b[0;34m(\u001b[0m\u001b[0mself\u001b[0m\u001b[0;34m,\u001b[0m\u001b[0mk\u001b[0m\u001b[0;34m,\u001b[0m\u001b[0mv\u001b[0m\u001b[0;34m)\u001b[0m\u001b[0;34m\u001b[0m\u001b[0;34m\u001b[0m\u001b[0m\n\u001b[0;32m---> 35\u001b[0;31m             \u001b[0m__repr__\u001b[0m \u001b[0;34m=\u001b[0m \u001b[0mbasic_repr\u001b[0m\u001b[0;34m(\u001b[0m\u001b[0mall_flds\u001b[0m\u001b[0;34m)\u001b[0m\u001b[0;34m\u001b[0m\u001b[0;34m\u001b[0m\u001b[0m\n\u001b[0m\u001b[1;32m     36\u001b[0m             \u001b[0mforward\u001b[0m \u001b[0;34m=\u001b[0m \u001b[0mf\u001b[0m\u001b[0;34m\u001b[0m\u001b[0;34m\u001b[0m\u001b[0m\n\u001b[1;32m     37\u001b[0m         \u001b[0mc\u001b[0m\u001b[0;34m.\u001b[0m\u001b[0m__signature__\u001b[0m \u001b[0;34m=\u001b[0m \u001b[0minspect\u001b[0m\u001b[0;34m.\u001b[0m\u001b[0mSignature\u001b[0m\u001b[0;34m(\u001b[0m\u001b[0mparams\u001b[0m\u001b[0;34m)\u001b[0m\u001b[0;34m\u001b[0m\u001b[0;34m\u001b[0m\u001b[0m\n",
      "\u001b[0;31mNameError\u001b[0m: name 'basic_repr' is not defined"
     ]
    },
    {
     "data": {
      "application/javascript": [
       "\n",
       "            setTimeout(function() {\n",
       "                var nbb_cell_id = 5;\n",
       "                var nbb_unformatted_code = \"# export\\nfrom torch import nn\\nfrom fastai2.basics import CrossEntropyLossFlat, accuracy, Callback, DataBunch, Learner\\nfrom fastai2.callback.schedule import *\\nfrom fastai2.callback.progress import *\\nfrom fastai2.callback.fp16 import *\\nfrom fastai2.callback.wandb import *\";\n",
       "                var nbb_formatted_code = \"# export\\nfrom torch import nn\\nfrom fastai2.basics import CrossEntropyLossFlat, accuracy, Callback, DataBunch, Learner\\nfrom fastai2.callback.schedule import *\\nfrom fastai2.callback.progress import *\\nfrom fastai2.callback.fp16 import *\\nfrom fastai2.callback.wandb import *\";\n",
       "                var nbb_cells = Jupyter.notebook.get_cells();\n",
       "                for (var i = 0; i < nbb_cells.length; ++i) {\n",
       "                    if (nbb_cells[i].input_prompt_number == nbb_cell_id) {\n",
       "                        if (nbb_cells[i].get_text() == nbb_unformatted_code) {\n",
       "                             nbb_cells[i].set_text(nbb_formatted_code);\n",
       "                        }\n",
       "                        break;\n",
       "                    }\n",
       "                }\n",
       "            }, 500);\n",
       "            "
      ],
      "text/plain": [
       "<IPython.core.display.Javascript object>"
      ]
     },
     "metadata": {},
     "output_type": "display_data"
    }
   ],
   "source": [
    "# export\n",
    "from torch import nn\n",
    "from fastai2.basics import CrossEntropyLossFlat, accuracy, Callback, DataBunch, Learner\n",
    "from fastai2.callback.schedule import *\n",
    "from fastai2.callback.progress import *\n",
    "from fastai2.callback.fp16 import *\n",
    "from fastai2.callback.wandb import *"
   ]
  },
  {
   "cell_type": "code",
   "execution_count": null,
   "metadata": {},
   "outputs": [
    {
     "data": {
      "application/javascript": [
       "\n",
       "            setTimeout(function() {\n",
       "                var nbb_cell_id = 3;\n",
       "                var nbb_unformatted_code = \"# default_exp training\";\n",
       "                var nbb_formatted_code = \"# default_exp training\";\n",
       "                var nbb_cells = Jupyter.notebook.get_cells();\n",
       "                for (var i = 0; i < nbb_cells.length; ++i) {\n",
       "                    if (nbb_cells[i].input_prompt_number == nbb_cell_id) {\n",
       "                        if (nbb_cells[i].get_text() == nbb_unformatted_code) {\n",
       "                             nbb_cells[i].set_text(nbb_formatted_code);\n",
       "                        }\n",
       "                        break;\n",
       "                    }\n",
       "                }\n",
       "            }, 500);\n",
       "            "
      ],
      "text/plain": [
       "<IPython.core.display.Javascript object>"
      ]
     },
     "metadata": {},
     "output_type": "display_data"
    }
   ],
   "source": [
    "# default_exp training"
   ]
  },
  {
   "cell_type": "markdown",
   "metadata": {},
   "source": [
    "# Training\n",
    "\n",
    "> Training the model"
   ]
  },
  {
   "cell_type": "code",
   "execution_count": null,
   "metadata": {},
   "outputs": [
    {
     "data": {
      "application/javascript": [
       "\n",
       "            setTimeout(function() {\n",
       "                var nbb_cell_id = 4;\n",
       "                var nbb_unformatted_code = \"# export\\n\\n\\nclass DualCrossEntropyLossFlat(CrossEntropyLossFlat):\\n    \\\"\\\"\\\"\\n    Average of a tuple of cross-entropy losses. Not sure it's a good idea.\\n    \\\"\\\"\\\"\\n\\n    def __call__(self, inp, targ, **kwargs):\\n        pitches_targ, durations_targ = targ.transpose(0, 1)\\n        pitches_targ = pitches_targ.transpose(0, 1)[-1]\\n        durations_targ = durations_targ.transpose(0, 1)[-1]\\n        pitches_input = inp[0].transpose(0, 1)[-1]\\n        durations_input = inp[1].transpose(0, 1)[-1]\\n        pitches_loss = super().__call__(pitches_input, pitches_targ, **kwargs)\\n        durations_loss = super().__call__(durations_input, durations_targ, **kwargs)\\n        return (pitches_loss + durations_loss) / 2\\n\\n\\ndef pitch_accuracy(inp, targ):\\n    targ_pitches, targ_durations = targ.transpose(0, 1)\\n    return accuracy(inp[0], targ_pitches)\\n\\n\\ndef rhythm_accuracy(inp, targ):\\n    targ_pitches, targ_durations = targ.transpose(0, 1)\\n    return accuracy(inp[1], targ_durations)\\n\\n\\ndef avg_accuracy(inp, targ):\\n    return (pitch_accuracy(inp, targ) + rhythm_accuracy(inp, targ)) / 2\\n\\n\\nclass ResetTrainer(Callback):\\n    \\\"Reset the model when switching between training and validation.\\\"\\n\\n    def begin_train(self):\\n        self.model.reset()\\n\\n    def begin_validate(self):\\n        self.model.reset()\";\n",
       "                var nbb_formatted_code = \"# export\\n\\n\\nclass DualCrossEntropyLossFlat(CrossEntropyLossFlat):\\n    \\\"\\\"\\\"\\n    Average of a tuple of cross-entropy losses. Not sure it's a good idea.\\n    \\\"\\\"\\\"\\n\\n    def __call__(self, inp, targ, **kwargs):\\n        pitches_targ, durations_targ = targ.transpose(0, 1)\\n        pitches_targ = pitches_targ.transpose(0, 1)[-1]\\n        durations_targ = durations_targ.transpose(0, 1)[-1]\\n        pitches_input = inp[0].transpose(0, 1)[-1]\\n        durations_input = inp[1].transpose(0, 1)[-1]\\n        pitches_loss = super().__call__(pitches_input, pitches_targ, **kwargs)\\n        durations_loss = super().__call__(durations_input, durations_targ, **kwargs)\\n        return (pitches_loss + durations_loss) / 2\\n\\n\\ndef pitch_accuracy(inp, targ):\\n    targ_pitches, targ_durations = targ.transpose(0, 1)\\n    return accuracy(inp[0], targ_pitches)\\n\\n\\ndef rhythm_accuracy(inp, targ):\\n    targ_pitches, targ_durations = targ.transpose(0, 1)\\n    return accuracy(inp[1], targ_durations)\\n\\n\\ndef avg_accuracy(inp, targ):\\n    return (pitch_accuracy(inp, targ) + rhythm_accuracy(inp, targ)) / 2\\n\\n\\nclass ResetTrainer(Callback):\\n    \\\"Reset the model when switching between training and validation.\\\"\\n\\n    def begin_train(self):\\n        self.model.reset()\\n\\n    def begin_validate(self):\\n        self.model.reset()\";\n",
       "                var nbb_cells = Jupyter.notebook.get_cells();\n",
       "                for (var i = 0; i < nbb_cells.length; ++i) {\n",
       "                    if (nbb_cells[i].input_prompt_number == nbb_cell_id) {\n",
       "                        if (nbb_cells[i].get_text() == nbb_unformatted_code) {\n",
       "                             nbb_cells[i].set_text(nbb_formatted_code);\n",
       "                        }\n",
       "                        break;\n",
       "                    }\n",
       "                }\n",
       "            }, 500);\n",
       "            "
      ],
      "text/plain": [
       "<IPython.core.display.Javascript object>"
      ]
     },
     "metadata": {},
     "output_type": "display_data"
    }
   ],
   "source": [
    "# export\n",
    "\n",
    "\n",
    "class DualCrossEntropyLossFlat(CrossEntropyLossFlat):\n",
    "    \"\"\"\n",
    "    Average of a tuple of cross-entropy losses. Not sure it's a good idea.\n",
    "    \"\"\"\n",
    "\n",
    "    def __call__(self, inp, targ, **kwargs):\n",
    "        pitches_targ, durations_targ = targ.transpose(0, 1)\n",
    "        pitches_targ = pitches_targ.transpose(0, 1)[-1]\n",
    "        durations_targ = durations_targ.transpose(0, 1)[-1]\n",
    "        pitches_input = inp[0].transpose(0, 1)[-1]\n",
    "        durations_input = inp[1].transpose(0, 1)[-1]\n",
    "        pitches_loss = super().__call__(pitches_input, pitches_targ, **kwargs)\n",
    "        durations_loss = super().__call__(durations_input, durations_targ, **kwargs)\n",
    "        return (pitches_loss + durations_loss) / 2\n",
    "\n",
    "\n",
    "def pitch_accuracy(inp, targ):\n",
    "    targ_pitches, targ_durations = targ.transpose(0, 1)\n",
    "    return accuracy(inp[0], targ_pitches)\n",
    "\n",
    "\n",
    "def rhythm_accuracy(inp, targ):\n",
    "    targ_pitches, targ_durations = targ.transpose(0, 1)\n",
    "    return accuracy(inp[1], targ_durations)\n",
    "\n",
    "\n",
    "def avg_accuracy(inp, targ):\n",
    "    return (pitch_accuracy(inp, targ) + rhythm_accuracy(inp, targ)) / 2\n",
    "\n",
    "\n",
    "class ResetTrainer(Callback):\n",
    "    \"Reset the model when switching between training and validation.\"\n",
    "\n",
    "    def begin_train(self):\n",
    "        self.model.reset()\n",
    "\n",
    "    def begin_validate(self):\n",
    "        self.model.reset()"
   ]
  },
  {
   "cell_type": "code",
   "execution_count": null,
   "metadata": {},
   "outputs": [
    {
     "data": {
      "application/javascript": [
       "\n",
       "            setTimeout(function() {\n",
       "                var nbb_cell_id = 5;\n",
       "                var nbb_unformatted_code = \"# export\\n\\n\\ndef get_learner(db: DataBunch, model: nn.Module) -> Learner:\\n    \\\"\\\"\\\"\\n    Constructs a learner from a databunch, using DualCrossEntroyLossFlat as a loss function.\\n    \\\"\\\"\\\"\\n    return Learner(\\n        db,\\n        model,\\n        loss_func=DualCrossEntropyLossFlat(),\\n        cb_funcs=ResetTrainer,\\n        metrics=[pitch_accuracy, rhythm_accuracy, avg_accuracy],\\n    )\";\n",
       "                var nbb_formatted_code = \"# export\\n\\n\\ndef get_learner(db: DataBunch, model: nn.Module) -> Learner:\\n    \\\"\\\"\\\"\\n    Constructs a learner from a databunch, using DualCrossEntroyLossFlat as a loss function.\\n    \\\"\\\"\\\"\\n    return Learner(\\n        db,\\n        model,\\n        loss_func=DualCrossEntropyLossFlat(),\\n        cb_funcs=ResetTrainer,\\n        metrics=[pitch_accuracy, rhythm_accuracy, avg_accuracy],\\n    )\";\n",
       "                var nbb_cells = Jupyter.notebook.get_cells();\n",
       "                for (var i = 0; i < nbb_cells.length; ++i) {\n",
       "                    if (nbb_cells[i].input_prompt_number == nbb_cell_id) {\n",
       "                        if (nbb_cells[i].get_text() == nbb_unformatted_code) {\n",
       "                             nbb_cells[i].set_text(nbb_formatted_code);\n",
       "                        }\n",
       "                        break;\n",
       "                    }\n",
       "                }\n",
       "            }, 500);\n",
       "            "
      ],
      "text/plain": [
       "<IPython.core.display.Javascript object>"
      ]
     },
     "metadata": {},
     "output_type": "display_data"
    }
   ],
   "source": [
    "# export\n",
    "\n",
    "\n",
    "def get_learner(db: DataBunch, model: nn.Module) -> Learner:\n",
    "    \"\"\"\n",
    "    Constructs a learner from a databunch, using DualCrossEntroyLossFlat as a loss function.\n",
    "    \"\"\"\n",
    "    return Learner(\n",
    "        db,\n",
    "        model,\n",
    "        loss_func=DualCrossEntropyLossFlat(),\n",
    "        cb_funcs=[WandbCallback(), ResetTrainer],\n",
    "        metrics=[pitch_accuracy, rhythm_accuracy, avg_accuracy],\n",
    "    )"
   ]
  },
  {
   "cell_type": "code",
   "execution_count": null,
   "metadata": {},
   "outputs": [
    {
     "data": {
      "application/javascript": [
       "\n",
       "            setTimeout(function() {\n",
       "                var nbb_cell_id = 6;\n",
       "                var nbb_unformatted_code = \"# export\\n\\n\\ndef train(learn: Learner, epochs=10, max_lr=1e-03):\\n    \\\"Train the model for a number of `epochs`.\\\"\\n    learn.fit(10, max_lr=max_lr)\";\n",
       "                var nbb_formatted_code = \"# export\\n\\n\\ndef train(learn: Learner, epochs=10, max_lr=1e-03):\\n    \\\"Train the model for a number of `epochs`.\\\"\\n    learn.fit(10, max_lr=max_lr)\";\n",
       "                var nbb_cells = Jupyter.notebook.get_cells();\n",
       "                for (var i = 0; i < nbb_cells.length; ++i) {\n",
       "                    if (nbb_cells[i].input_prompt_number == nbb_cell_id) {\n",
       "                        if (nbb_cells[i].get_text() == nbb_unformatted_code) {\n",
       "                             nbb_cells[i].set_text(nbb_formatted_code);\n",
       "                        }\n",
       "                        break;\n",
       "                    }\n",
       "                }\n",
       "            }, 500);\n",
       "            "
      ],
      "text/plain": [
       "<IPython.core.display.Javascript object>"
      ]
     },
     "metadata": {},
     "output_type": "display_data"
    }
   ],
   "source": [
    "# export\n",
    "\n",
    "\n",
    "def train(learn: Learner, epochs=10, max_lr=1e-03):\n",
    "    \"Train the model for a number of `epochs`.\"\n",
    "    learn.fit(10, max_lr=max_lr)"
   ]
  }
 ],
 "metadata": {
  "kernelspec": {
   "display_name": "Python 3",
   "language": "python",
   "name": "python3"
  }
 },
 "nbformat": 4,
 "nbformat_minor": 2
}
