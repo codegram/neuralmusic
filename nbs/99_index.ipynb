{
 "cells": [
  {
   "cell_type": "code",
   "execution_count": null,
   "metadata": {},
   "outputs": [],
   "source": [
    "# hide\n",
    "from neuralmusic.core import *"
   ]
  },
  {
   "cell_type": "markdown",
   "metadata": {},
   "source": [
    "# Neuralmusic\n",
    "\n",
    "> An experiment at learning multiple aspects of a signal in parallel."
   ]
  },
  {
   "cell_type": "markdown",
   "metadata": {},
   "source": [
    "## Development workflow\n",
    "\n",
    "First of all get the dependencies:\n",
    "\n",
    "```bash\n",
    "make deps\n",
    "```\n",
    "\n",
    "To develop this project, you want to edit the notebooks under `nbs/`. So fire up Jupyter with:\n",
    "\n",
    "```bash\n",
    "make dev\n",
    "```\n",
    "\n",
    "Once you're happy with the changes, just build the project with:\n",
    "\n",
    "```bash\n",
    "make build\n",
    "```\n",
    "\n",
    "To run the tests (any cell marked with `# test` will be considered a runnable test):\n",
    "\n",
    "```bash\n",
    "make test\n",
    "```\n",
    "\n",
    "To build the docs:\n",
    "\n",
    "```bash\n",
    "make docs\n",
    "```"
   ]
  },
  {
   "cell_type": "code",
   "execution_count": null,
   "metadata": {},
   "outputs": [],
   "source": []
  }
 ],
 "metadata": {
  "kernelspec": {
   "display_name": "Python 3",
   "language": "python",
   "name": "python3"
  }
 },
 "nbformat": 4,
 "nbformat_minor": 2
}
